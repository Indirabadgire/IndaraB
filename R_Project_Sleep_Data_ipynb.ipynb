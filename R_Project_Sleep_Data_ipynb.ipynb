{
  "nbformat": 4,
  "nbformat_minor": 0,
  "metadata": {
    "colab": {
      "provenance": [],
      "include_colab_link": true
    },
    "kernelspec": {
      "name": "ir",
      "display_name": "R"
    }
  },
  "cells": [
    {
      "cell_type": "markdown",
      "metadata": {
        "id": "view-in-github",
        "colab_type": "text"
      },
      "source": [
        "<a href=\"https://colab.research.google.com/github/Indirabadgire/IndaraB/blob/main/R_Project_Sleep_Data_ipynb.ipynb\" target=\"_parent\"><img src=\"https://colab.research.google.com/assets/colab-badge.svg\" alt=\"Open In Colab\"/></a>"
      ]
    },
    {
      "cell_type": "code",
      "metadata": {
        "id": "Z60PpIfIeF4Z",
        "colab": {
          "base_uri": "https://localhost:8080/"
        },
        "outputId": "26914a72-9647-4aa7-8e05-fde8d57e77f1"
      },
      "source": [
        "install.packages(\"dplyr\")"
      ],
      "execution_count": null,
      "outputs": [
        {
          "output_type": "stream",
          "name": "stderr",
          "text": [
            "Installing package into ‘/usr/local/lib/R/site-library’\n",
            "(as ‘lib’ is unspecified)\n",
            "\n"
          ]
        }
      ]
    },
    {
      "cell_type": "code",
      "source": [
        "library(dplyr)"
      ],
      "metadata": {
        "colab": {
          "base_uri": "https://localhost:8080/"
        },
        "id": "xdj3tlmoZLrw",
        "outputId": "e515e72d-8aa6-4860-adb9-503d2033cb2e"
      },
      "execution_count": null,
      "outputs": [
        {
          "output_type": "stream",
          "name": "stderr",
          "text": [
            "\n",
            "Attaching package: ‘dplyr’\n",
            "\n",
            "\n",
            "The following objects are masked from ‘package:stats’:\n",
            "\n",
            "    filter, lag\n",
            "\n",
            "\n",
            "The following objects are masked from ‘package:base’:\n",
            "\n",
            "    intersect, setdiff, setequal, union\n",
            "\n",
            "\n"
          ]
        }
      ]
    },
    {
      "cell_type": "code",
      "source": [
        "install.packages(\"ggplot2\")\n",
        "install.packages(\"ISLR\")\n",
        "install.packages(\"ggplot2\")\n",
        "install.packages(\"ISLR\")\n",
        "#installing All Require packages"
      ],
      "metadata": {
        "colab": {
          "base_uri": "https://localhost:8080/"
        },
        "id": "EOdhncPOaXQ-",
        "outputId": "b757eb76-9cbe-4561-cfd5-ccd60604cf4a"
      },
      "execution_count": null,
      "outputs": [
        {
          "output_type": "stream",
          "name": "stderr",
          "text": [
            "Installing package into ‘/usr/local/lib/R/site-library’\n",
            "(as ‘lib’ is unspecified)\n",
            "\n",
            "Installing package into ‘/usr/local/lib/R/site-library’\n",
            "(as ‘lib’ is unspecified)\n",
            "\n",
            "Installing package into ‘/usr/local/lib/R/site-library’\n",
            "(as ‘lib’ is unspecified)\n",
            "\n",
            "Installing package into ‘/usr/local/lib/R/site-library’\n",
            "(as ‘lib’ is unspecified)\n",
            "\n"
          ]
        }
      ]
    },
    {
      "cell_type": "code",
      "metadata": {
        "id": "IS3VN3qamf20",
        "colab": {
          "base_uri": "https://localhost:8080/",
          "height": 725
        },
        "outputId": "fba4d2cf-d5e2-483c-8300-ce3bda127141"
      },
      "source": [
        "df=read.csv(\"sleep.csv\")\n",
        "df"
      ],
      "execution_count": null,
      "outputs": [
        {
          "output_type": "display_data",
          "data": {
            "text/html": [
              "<table class=\"dataframe\">\n",
              "<caption>A data.frame: 20 × 4</caption>\n",
              "<thead>\n",
              "\t<tr><th scope=col>X</th><th scope=col>extra</th><th scope=col>group</th><th scope=col>ID</th></tr>\n",
              "\t<tr><th scope=col>&lt;int&gt;</th><th scope=col>&lt;dbl&gt;</th><th scope=col>&lt;int&gt;</th><th scope=col>&lt;int&gt;</th></tr>\n",
              "</thead>\n",
              "<tbody>\n",
              "\t<tr><td> 1</td><td> 0.7</td><td>1</td><td> 1</td></tr>\n",
              "\t<tr><td> 2</td><td>-1.6</td><td>1</td><td> 2</td></tr>\n",
              "\t<tr><td> 3</td><td>-0.2</td><td>1</td><td> 3</td></tr>\n",
              "\t<tr><td> 4</td><td>-1.2</td><td>1</td><td> 4</td></tr>\n",
              "\t<tr><td> 5</td><td>-0.1</td><td>1</td><td> 5</td></tr>\n",
              "\t<tr><td> 6</td><td> 3.4</td><td>1</td><td> 6</td></tr>\n",
              "\t<tr><td> 7</td><td> 3.7</td><td>1</td><td> 7</td></tr>\n",
              "\t<tr><td> 8</td><td> 0.8</td><td>1</td><td> 8</td></tr>\n",
              "\t<tr><td> 9</td><td> 0.0</td><td>1</td><td> 9</td></tr>\n",
              "\t<tr><td>10</td><td> 2.0</td><td>1</td><td>10</td></tr>\n",
              "\t<tr><td>11</td><td> 1.9</td><td>2</td><td> 1</td></tr>\n",
              "\t<tr><td>12</td><td> 0.8</td><td>2</td><td> 2</td></tr>\n",
              "\t<tr><td>13</td><td> 1.1</td><td>2</td><td> 3</td></tr>\n",
              "\t<tr><td>14</td><td> 0.1</td><td>2</td><td> 4</td></tr>\n",
              "\t<tr><td>15</td><td>-0.1</td><td>2</td><td> 5</td></tr>\n",
              "\t<tr><td>16</td><td> 4.4</td><td>2</td><td> 6</td></tr>\n",
              "\t<tr><td>17</td><td> 5.5</td><td>2</td><td> 7</td></tr>\n",
              "\t<tr><td>18</td><td> 1.6</td><td>2</td><td> 8</td></tr>\n",
              "\t<tr><td>19</td><td> 4.6</td><td>2</td><td> 9</td></tr>\n",
              "\t<tr><td>20</td><td> 3.4</td><td>2</td><td>10</td></tr>\n",
              "</tbody>\n",
              "</table>\n"
            ],
            "text/markdown": "\nA data.frame: 20 × 4\n\n| X &lt;int&gt; | extra &lt;dbl&gt; | group &lt;int&gt; | ID &lt;int&gt; |\n|---|---|---|---|\n|  1 |  0.7 | 1 |  1 |\n|  2 | -1.6 | 1 |  2 |\n|  3 | -0.2 | 1 |  3 |\n|  4 | -1.2 | 1 |  4 |\n|  5 | -0.1 | 1 |  5 |\n|  6 |  3.4 | 1 |  6 |\n|  7 |  3.7 | 1 |  7 |\n|  8 |  0.8 | 1 |  8 |\n|  9 |  0.0 | 1 |  9 |\n| 10 |  2.0 | 1 | 10 |\n| 11 |  1.9 | 2 |  1 |\n| 12 |  0.8 | 2 |  2 |\n| 13 |  1.1 | 2 |  3 |\n| 14 |  0.1 | 2 |  4 |\n| 15 | -0.1 | 2 |  5 |\n| 16 |  4.4 | 2 |  6 |\n| 17 |  5.5 | 2 |  7 |\n| 18 |  1.6 | 2 |  8 |\n| 19 |  4.6 | 2 |  9 |\n| 20 |  3.4 | 2 | 10 |\n\n",
            "text/latex": "A data.frame: 20 × 4\n\\begin{tabular}{llll}\n X & extra & group & ID\\\\\n <int> & <dbl> & <int> & <int>\\\\\n\\hline\n\t  1 &  0.7 & 1 &  1\\\\\n\t  2 & -1.6 & 1 &  2\\\\\n\t  3 & -0.2 & 1 &  3\\\\\n\t  4 & -1.2 & 1 &  4\\\\\n\t  5 & -0.1 & 1 &  5\\\\\n\t  6 &  3.4 & 1 &  6\\\\\n\t  7 &  3.7 & 1 &  7\\\\\n\t  8 &  0.8 & 1 &  8\\\\\n\t  9 &  0.0 & 1 &  9\\\\\n\t 10 &  2.0 & 1 & 10\\\\\n\t 11 &  1.9 & 2 &  1\\\\\n\t 12 &  0.8 & 2 &  2\\\\\n\t 13 &  1.1 & 2 &  3\\\\\n\t 14 &  0.1 & 2 &  4\\\\\n\t 15 & -0.1 & 2 &  5\\\\\n\t 16 &  4.4 & 2 &  6\\\\\n\t 17 &  5.5 & 2 &  7\\\\\n\t 18 &  1.6 & 2 &  8\\\\\n\t 19 &  4.6 & 2 &  9\\\\\n\t 20 &  3.4 & 2 & 10\\\\\n\\end{tabular}\n",
            "text/plain": [
              "   X  extra group ID\n",
              "1   1  0.7  1      1\n",
              "2   2 -1.6  1      2\n",
              "3   3 -0.2  1      3\n",
              "4   4 -1.2  1      4\n",
              "5   5 -0.1  1      5\n",
              "6   6  3.4  1      6\n",
              "7   7  3.7  1      7\n",
              "8   8  0.8  1      8\n",
              "9   9  0.0  1      9\n",
              "10 10  2.0  1     10\n",
              "11 11  1.9  2      1\n",
              "12 12  0.8  2      2\n",
              "13 13  1.1  2      3\n",
              "14 14  0.1  2      4\n",
              "15 15 -0.1  2      5\n",
              "16 16  4.4  2      6\n",
              "17 17  5.5  2      7\n",
              "18 18  1.6  2      8\n",
              "19 19  4.6  2      9\n",
              "20 20  3.4  2     10"
            ]
          },
          "metadata": {}
        }
      ]
    },
    {
      "cell_type": "code",
      "source": [
        "head(df)"
      ],
      "metadata": {
        "colab": {
          "base_uri": "https://localhost:8080/",
          "height": 286
        },
        "id": "cwl7N51WbDNU",
        "outputId": "d7cd079a-7196-4218-88fa-e6e29005ba65"
      },
      "execution_count": null,
      "outputs": [
        {
          "output_type": "display_data",
          "data": {
            "text/html": [
              "<table class=\"dataframe\">\n",
              "<caption>A data.frame: 6 × 4</caption>\n",
              "<thead>\n",
              "\t<tr><th></th><th scope=col>X</th><th scope=col>extra</th><th scope=col>group</th><th scope=col>ID</th></tr>\n",
              "\t<tr><th></th><th scope=col>&lt;int&gt;</th><th scope=col>&lt;dbl&gt;</th><th scope=col>&lt;int&gt;</th><th scope=col>&lt;int&gt;</th></tr>\n",
              "</thead>\n",
              "<tbody>\n",
              "\t<tr><th scope=row>1</th><td>1</td><td> 0.7</td><td>1</td><td>1</td></tr>\n",
              "\t<tr><th scope=row>2</th><td>2</td><td>-1.6</td><td>1</td><td>2</td></tr>\n",
              "\t<tr><th scope=row>3</th><td>3</td><td>-0.2</td><td>1</td><td>3</td></tr>\n",
              "\t<tr><th scope=row>4</th><td>4</td><td>-1.2</td><td>1</td><td>4</td></tr>\n",
              "\t<tr><th scope=row>5</th><td>5</td><td>-0.1</td><td>1</td><td>5</td></tr>\n",
              "\t<tr><th scope=row>6</th><td>6</td><td> 3.4</td><td>1</td><td>6</td></tr>\n",
              "</tbody>\n",
              "</table>\n"
            ],
            "text/markdown": "\nA data.frame: 6 × 4\n\n| <!--/--> | X &lt;int&gt; | extra &lt;dbl&gt; | group &lt;int&gt; | ID &lt;int&gt; |\n|---|---|---|---|---|\n| 1 | 1 |  0.7 | 1 | 1 |\n| 2 | 2 | -1.6 | 1 | 2 |\n| 3 | 3 | -0.2 | 1 | 3 |\n| 4 | 4 | -1.2 | 1 | 4 |\n| 5 | 5 | -0.1 | 1 | 5 |\n| 6 | 6 |  3.4 | 1 | 6 |\n\n",
            "text/latex": "A data.frame: 6 × 4\n\\begin{tabular}{r|llll}\n  & X & extra & group & ID\\\\\n  & <int> & <dbl> & <int> & <int>\\\\\n\\hline\n\t1 & 1 &  0.7 & 1 & 1\\\\\n\t2 & 2 & -1.6 & 1 & 2\\\\\n\t3 & 3 & -0.2 & 1 & 3\\\\\n\t4 & 4 & -1.2 & 1 & 4\\\\\n\t5 & 5 & -0.1 & 1 & 5\\\\\n\t6 & 6 &  3.4 & 1 & 6\\\\\n\\end{tabular}\n",
            "text/plain": [
              "  X extra group ID\n",
              "1 1  0.7  1     1 \n",
              "2 2 -1.6  1     2 \n",
              "3 3 -0.2  1     3 \n",
              "4 4 -1.2  1     4 \n",
              "5 5 -0.1  1     5 \n",
              "6 6  3.4  1     6 "
            ]
          },
          "metadata": {}
        }
      ]
    },
    {
      "cell_type": "code",
      "source": [
        "head(df,n=10)         #to print first 10 rows of the data"
      ],
      "metadata": {
        "colab": {
          "base_uri": "https://localhost:8080/",
          "height": 411
        },
        "id": "xBHQrK8sbDcO",
        "outputId": "9a279a2d-ee65-4ee0-8809-ac3e020d16ab"
      },
      "execution_count": null,
      "outputs": [
        {
          "output_type": "display_data",
          "data": {
            "text/html": [
              "<table class=\"dataframe\">\n",
              "<caption>A data.frame: 10 × 4</caption>\n",
              "<thead>\n",
              "\t<tr><th></th><th scope=col>X</th><th scope=col>extra</th><th scope=col>group</th><th scope=col>ID</th></tr>\n",
              "\t<tr><th></th><th scope=col>&lt;int&gt;</th><th scope=col>&lt;dbl&gt;</th><th scope=col>&lt;int&gt;</th><th scope=col>&lt;int&gt;</th></tr>\n",
              "</thead>\n",
              "<tbody>\n",
              "\t<tr><th scope=row>1</th><td> 1</td><td> 0.7</td><td>1</td><td> 1</td></tr>\n",
              "\t<tr><th scope=row>2</th><td> 2</td><td>-1.6</td><td>1</td><td> 2</td></tr>\n",
              "\t<tr><th scope=row>3</th><td> 3</td><td>-0.2</td><td>1</td><td> 3</td></tr>\n",
              "\t<tr><th scope=row>4</th><td> 4</td><td>-1.2</td><td>1</td><td> 4</td></tr>\n",
              "\t<tr><th scope=row>5</th><td> 5</td><td>-0.1</td><td>1</td><td> 5</td></tr>\n",
              "\t<tr><th scope=row>6</th><td> 6</td><td> 3.4</td><td>1</td><td> 6</td></tr>\n",
              "\t<tr><th scope=row>7</th><td> 7</td><td> 3.7</td><td>1</td><td> 7</td></tr>\n",
              "\t<tr><th scope=row>8</th><td> 8</td><td> 0.8</td><td>1</td><td> 8</td></tr>\n",
              "\t<tr><th scope=row>9</th><td> 9</td><td> 0.0</td><td>1</td><td> 9</td></tr>\n",
              "\t<tr><th scope=row>10</th><td>10</td><td> 2.0</td><td>1</td><td>10</td></tr>\n",
              "</tbody>\n",
              "</table>\n"
            ],
            "text/markdown": "\nA data.frame: 10 × 4\n\n| <!--/--> | X &lt;int&gt; | extra &lt;dbl&gt; | group &lt;int&gt; | ID &lt;int&gt; |\n|---|---|---|---|---|\n| 1 |  1 |  0.7 | 1 |  1 |\n| 2 |  2 | -1.6 | 1 |  2 |\n| 3 |  3 | -0.2 | 1 |  3 |\n| 4 |  4 | -1.2 | 1 |  4 |\n| 5 |  5 | -0.1 | 1 |  5 |\n| 6 |  6 |  3.4 | 1 |  6 |\n| 7 |  7 |  3.7 | 1 |  7 |\n| 8 |  8 |  0.8 | 1 |  8 |\n| 9 |  9 |  0.0 | 1 |  9 |\n| 10 | 10 |  2.0 | 1 | 10 |\n\n",
            "text/latex": "A data.frame: 10 × 4\n\\begin{tabular}{r|llll}\n  & X & extra & group & ID\\\\\n  & <int> & <dbl> & <int> & <int>\\\\\n\\hline\n\t1 &  1 &  0.7 & 1 &  1\\\\\n\t2 &  2 & -1.6 & 1 &  2\\\\\n\t3 &  3 & -0.2 & 1 &  3\\\\\n\t4 &  4 & -1.2 & 1 &  4\\\\\n\t5 &  5 & -0.1 & 1 &  5\\\\\n\t6 &  6 &  3.4 & 1 &  6\\\\\n\t7 &  7 &  3.7 & 1 &  7\\\\\n\t8 &  8 &  0.8 & 1 &  8\\\\\n\t9 &  9 &  0.0 & 1 &  9\\\\\n\t10 & 10 &  2.0 & 1 & 10\\\\\n\\end{tabular}\n",
            "text/plain": [
              "   X  extra group ID\n",
              "1   1  0.7  1      1\n",
              "2   2 -1.6  1      2\n",
              "3   3 -0.2  1      3\n",
              "4   4 -1.2  1      4\n",
              "5   5 -0.1  1      5\n",
              "6   6  3.4  1      6\n",
              "7   7  3.7  1      7\n",
              "8   8  0.8  1      8\n",
              "9   9  0.0  1      9\n",
              "10 10  2.0  1     10"
            ]
          },
          "metadata": {}
        }
      ]
    },
    {
      "cell_type": "code",
      "source": [
        "tail(df)    # to print last rows of the data"
      ],
      "metadata": {
        "colab": {
          "base_uri": "https://localhost:8080/",
          "height": 286
        },
        "id": "WMXPgcfZbDgf",
        "outputId": "3893593d-89aa-47e9-8e8c-2f06ad02f9ec"
      },
      "execution_count": null,
      "outputs": [
        {
          "output_type": "display_data",
          "data": {
            "text/html": [
              "<table class=\"dataframe\">\n",
              "<caption>A data.frame: 6 × 4</caption>\n",
              "<thead>\n",
              "\t<tr><th></th><th scope=col>X</th><th scope=col>extra</th><th scope=col>group</th><th scope=col>ID</th></tr>\n",
              "\t<tr><th></th><th scope=col>&lt;int&gt;</th><th scope=col>&lt;dbl&gt;</th><th scope=col>&lt;int&gt;</th><th scope=col>&lt;int&gt;</th></tr>\n",
              "</thead>\n",
              "<tbody>\n",
              "\t<tr><th scope=row>15</th><td>15</td><td>-0.1</td><td>2</td><td> 5</td></tr>\n",
              "\t<tr><th scope=row>16</th><td>16</td><td> 4.4</td><td>2</td><td> 6</td></tr>\n",
              "\t<tr><th scope=row>17</th><td>17</td><td> 5.5</td><td>2</td><td> 7</td></tr>\n",
              "\t<tr><th scope=row>18</th><td>18</td><td> 1.6</td><td>2</td><td> 8</td></tr>\n",
              "\t<tr><th scope=row>19</th><td>19</td><td> 4.6</td><td>2</td><td> 9</td></tr>\n",
              "\t<tr><th scope=row>20</th><td>20</td><td> 3.4</td><td>2</td><td>10</td></tr>\n",
              "</tbody>\n",
              "</table>\n"
            ],
            "text/markdown": "\nA data.frame: 6 × 4\n\n| <!--/--> | X &lt;int&gt; | extra &lt;dbl&gt; | group &lt;int&gt; | ID &lt;int&gt; |\n|---|---|---|---|---|\n| 15 | 15 | -0.1 | 2 |  5 |\n| 16 | 16 |  4.4 | 2 |  6 |\n| 17 | 17 |  5.5 | 2 |  7 |\n| 18 | 18 |  1.6 | 2 |  8 |\n| 19 | 19 |  4.6 | 2 |  9 |\n| 20 | 20 |  3.4 | 2 | 10 |\n\n",
            "text/latex": "A data.frame: 6 × 4\n\\begin{tabular}{r|llll}\n  & X & extra & group & ID\\\\\n  & <int> & <dbl> & <int> & <int>\\\\\n\\hline\n\t15 & 15 & -0.1 & 2 &  5\\\\\n\t16 & 16 &  4.4 & 2 &  6\\\\\n\t17 & 17 &  5.5 & 2 &  7\\\\\n\t18 & 18 &  1.6 & 2 &  8\\\\\n\t19 & 19 &  4.6 & 2 &  9\\\\\n\t20 & 20 &  3.4 & 2 & 10\\\\\n\\end{tabular}\n",
            "text/plain": [
              "   X  extra group ID\n",
              "15 15 -0.1  2      5\n",
              "16 16  4.4  2      6\n",
              "17 17  5.5  2      7\n",
              "18 18  1.6  2      8\n",
              "19 19  4.6  2      9\n",
              "20 20  3.4  2     10"
            ]
          },
          "metadata": {}
        }
      ]
    },
    {
      "cell_type": "code",
      "source": [
        "class(df)   #class of an object(numeric, matrix, dataframe etc.)"
      ],
      "metadata": {
        "colab": {
          "base_uri": "https://localhost:8080/",
          "height": 34
        },
        "id": "_YtL1UUsbDjd",
        "outputId": "1d0e39fe-b8ae-4461-b015-aa5b0310e2ba"
      },
      "execution_count": null,
      "outputs": [
        {
          "output_type": "display_data",
          "data": {
            "text/html": [
              "'data.frame'"
            ],
            "text/markdown": "'data.frame'",
            "text/latex": "'data.frame'",
            "text/plain": [
              "[1] \"data.frame\""
            ]
          },
          "metadata": {}
        }
      ]
    },
    {
      "cell_type": "code",
      "source": [
        "dim(df) "
      ],
      "metadata": {
        "colab": {
          "base_uri": "https://localhost:8080/",
          "height": 34
        },
        "id": "A8m46HoRbZ0E",
        "outputId": "0b64235a-5a32-4ca1-fc7a-ee0d37a10c04"
      },
      "execution_count": null,
      "outputs": [
        {
          "output_type": "display_data",
          "data": {
            "text/html": [
              "<style>\n",
              ".list-inline {list-style: none; margin:0; padding: 0}\n",
              ".list-inline>li {display: inline-block}\n",
              ".list-inline>li:not(:last-child)::after {content: \"\\00b7\"; padding: 0 .5ex}\n",
              "</style>\n",
              "<ol class=list-inline><li>20</li><li>4</li></ol>\n"
            ],
            "text/markdown": "1. 20\n2. 4\n\n\n",
            "text/latex": "\\begin{enumerate*}\n\\item 20\n\\item 4\n\\end{enumerate*}\n",
            "text/plain": [
              "[1] 20  4"
            ]
          },
          "metadata": {}
        }
      ]
    },
    {
      "cell_type": "code",
      "source": [
        "length(df)  # no of cols"
      ],
      "metadata": {
        "colab": {
          "base_uri": "https://localhost:8080/",
          "height": 34
        },
        "id": "qNC3iyEpbZ3k",
        "outputId": "a466022c-5b46-440c-d666-6a65c6a2d99e"
      },
      "execution_count": null,
      "outputs": [
        {
          "output_type": "display_data",
          "data": {
            "text/html": [
              "4"
            ],
            "text/markdown": "4",
            "text/latex": "4",
            "text/plain": [
              "[1] 4"
            ]
          },
          "metadata": {}
        }
      ]
    },
    {
      "cell_type": "code",
      "source": [
        "# Here we take a subset of Age greater than 20\n",
        "subset (df, subset=group\t>1)"
      ],
      "metadata": {
        "colab": {
          "base_uri": "https://localhost:8080/",
          "height": 411
        },
        "id": "rCpJyPPxbZ9t",
        "outputId": "c37af22e-70fc-4f3c-93d8-b652f803ec96"
      },
      "execution_count": null,
      "outputs": [
        {
          "output_type": "display_data",
          "data": {
            "text/html": [
              "<table class=\"dataframe\">\n",
              "<caption>A data.frame: 10 × 4</caption>\n",
              "<thead>\n",
              "\t<tr><th></th><th scope=col>X</th><th scope=col>extra</th><th scope=col>group</th><th scope=col>ID</th></tr>\n",
              "\t<tr><th></th><th scope=col>&lt;int&gt;</th><th scope=col>&lt;dbl&gt;</th><th scope=col>&lt;int&gt;</th><th scope=col>&lt;int&gt;</th></tr>\n",
              "</thead>\n",
              "<tbody>\n",
              "\t<tr><th scope=row>11</th><td>11</td><td> 1.9</td><td>2</td><td> 1</td></tr>\n",
              "\t<tr><th scope=row>12</th><td>12</td><td> 0.8</td><td>2</td><td> 2</td></tr>\n",
              "\t<tr><th scope=row>13</th><td>13</td><td> 1.1</td><td>2</td><td> 3</td></tr>\n",
              "\t<tr><th scope=row>14</th><td>14</td><td> 0.1</td><td>2</td><td> 4</td></tr>\n",
              "\t<tr><th scope=row>15</th><td>15</td><td>-0.1</td><td>2</td><td> 5</td></tr>\n",
              "\t<tr><th scope=row>16</th><td>16</td><td> 4.4</td><td>2</td><td> 6</td></tr>\n",
              "\t<tr><th scope=row>17</th><td>17</td><td> 5.5</td><td>2</td><td> 7</td></tr>\n",
              "\t<tr><th scope=row>18</th><td>18</td><td> 1.6</td><td>2</td><td> 8</td></tr>\n",
              "\t<tr><th scope=row>19</th><td>19</td><td> 4.6</td><td>2</td><td> 9</td></tr>\n",
              "\t<tr><th scope=row>20</th><td>20</td><td> 3.4</td><td>2</td><td>10</td></tr>\n",
              "</tbody>\n",
              "</table>\n"
            ],
            "text/markdown": "\nA data.frame: 10 × 4\n\n| <!--/--> | X &lt;int&gt; | extra &lt;dbl&gt; | group &lt;int&gt; | ID &lt;int&gt; |\n|---|---|---|---|---|\n| 11 | 11 |  1.9 | 2 |  1 |\n| 12 | 12 |  0.8 | 2 |  2 |\n| 13 | 13 |  1.1 | 2 |  3 |\n| 14 | 14 |  0.1 | 2 |  4 |\n| 15 | 15 | -0.1 | 2 |  5 |\n| 16 | 16 |  4.4 | 2 |  6 |\n| 17 | 17 |  5.5 | 2 |  7 |\n| 18 | 18 |  1.6 | 2 |  8 |\n| 19 | 19 |  4.6 | 2 |  9 |\n| 20 | 20 |  3.4 | 2 | 10 |\n\n",
            "text/latex": "A data.frame: 10 × 4\n\\begin{tabular}{r|llll}\n  & X & extra & group & ID\\\\\n  & <int> & <dbl> & <int> & <int>\\\\\n\\hline\n\t11 & 11 &  1.9 & 2 &  1\\\\\n\t12 & 12 &  0.8 & 2 &  2\\\\\n\t13 & 13 &  1.1 & 2 &  3\\\\\n\t14 & 14 &  0.1 & 2 &  4\\\\\n\t15 & 15 & -0.1 & 2 &  5\\\\\n\t16 & 16 &  4.4 & 2 &  6\\\\\n\t17 & 17 &  5.5 & 2 &  7\\\\\n\t18 & 18 &  1.6 & 2 &  8\\\\\n\t19 & 19 &  4.6 & 2 &  9\\\\\n\t20 & 20 &  3.4 & 2 & 10\\\\\n\\end{tabular}\n",
            "text/plain": [
              "   X  extra group ID\n",
              "11 11  1.9  2      1\n",
              "12 12  0.8  2      2\n",
              "13 13  1.1  2      3\n",
              "14 14  0.1  2      4\n",
              "15 15 -0.1  2      5\n",
              "16 16  4.4  2      6\n",
              "17 17  5.5  2      7\n",
              "18 18  1.6  2      8\n",
              "19 19  4.6  2      9\n",
              "20 20  3.4  2     10"
            ]
          },
          "metadata": {}
        }
      ]
    },
    {
      "cell_type": "code",
      "source": [
        "# To find specific columns from data\n",
        "select (df,2:4)                        # index starts from 1"
      ],
      "metadata": {
        "colab": {
          "base_uri": "https://localhost:8080/",
          "height": 725
        },
        "id": "7VumQQQ6eTL5",
        "outputId": "05330f6a-40e2-49f6-8a68-e6158253bf38"
      },
      "execution_count": null,
      "outputs": [
        {
          "output_type": "display_data",
          "data": {
            "text/html": [
              "<table class=\"dataframe\">\n",
              "<caption>A data.frame: 20 × 3</caption>\n",
              "<thead>\n",
              "\t<tr><th scope=col>extra</th><th scope=col>group</th><th scope=col>ID</th></tr>\n",
              "\t<tr><th scope=col>&lt;dbl&gt;</th><th scope=col>&lt;int&gt;</th><th scope=col>&lt;int&gt;</th></tr>\n",
              "</thead>\n",
              "<tbody>\n",
              "\t<tr><td> 0.7</td><td>1</td><td> 1</td></tr>\n",
              "\t<tr><td>-1.6</td><td>1</td><td> 2</td></tr>\n",
              "\t<tr><td>-0.2</td><td>1</td><td> 3</td></tr>\n",
              "\t<tr><td>-1.2</td><td>1</td><td> 4</td></tr>\n",
              "\t<tr><td>-0.1</td><td>1</td><td> 5</td></tr>\n",
              "\t<tr><td> 3.4</td><td>1</td><td> 6</td></tr>\n",
              "\t<tr><td> 3.7</td><td>1</td><td> 7</td></tr>\n",
              "\t<tr><td> 0.8</td><td>1</td><td> 8</td></tr>\n",
              "\t<tr><td> 0.0</td><td>1</td><td> 9</td></tr>\n",
              "\t<tr><td> 2.0</td><td>1</td><td>10</td></tr>\n",
              "\t<tr><td> 1.9</td><td>2</td><td> 1</td></tr>\n",
              "\t<tr><td> 0.8</td><td>2</td><td> 2</td></tr>\n",
              "\t<tr><td> 1.1</td><td>2</td><td> 3</td></tr>\n",
              "\t<tr><td> 0.1</td><td>2</td><td> 4</td></tr>\n",
              "\t<tr><td>-0.1</td><td>2</td><td> 5</td></tr>\n",
              "\t<tr><td> 4.4</td><td>2</td><td> 6</td></tr>\n",
              "\t<tr><td> 5.5</td><td>2</td><td> 7</td></tr>\n",
              "\t<tr><td> 1.6</td><td>2</td><td> 8</td></tr>\n",
              "\t<tr><td> 4.6</td><td>2</td><td> 9</td></tr>\n",
              "\t<tr><td> 3.4</td><td>2</td><td>10</td></tr>\n",
              "</tbody>\n",
              "</table>\n"
            ],
            "text/markdown": "\nA data.frame: 20 × 3\n\n| extra &lt;dbl&gt; | group &lt;int&gt; | ID &lt;int&gt; |\n|---|---|---|\n|  0.7 | 1 |  1 |\n| -1.6 | 1 |  2 |\n| -0.2 | 1 |  3 |\n| -1.2 | 1 |  4 |\n| -0.1 | 1 |  5 |\n|  3.4 | 1 |  6 |\n|  3.7 | 1 |  7 |\n|  0.8 | 1 |  8 |\n|  0.0 | 1 |  9 |\n|  2.0 | 1 | 10 |\n|  1.9 | 2 |  1 |\n|  0.8 | 2 |  2 |\n|  1.1 | 2 |  3 |\n|  0.1 | 2 |  4 |\n| -0.1 | 2 |  5 |\n|  4.4 | 2 |  6 |\n|  5.5 | 2 |  7 |\n|  1.6 | 2 |  8 |\n|  4.6 | 2 |  9 |\n|  3.4 | 2 | 10 |\n\n",
            "text/latex": "A data.frame: 20 × 3\n\\begin{tabular}{lll}\n extra & group & ID\\\\\n <dbl> & <int> & <int>\\\\\n\\hline\n\t  0.7 & 1 &  1\\\\\n\t -1.6 & 1 &  2\\\\\n\t -0.2 & 1 &  3\\\\\n\t -1.2 & 1 &  4\\\\\n\t -0.1 & 1 &  5\\\\\n\t  3.4 & 1 &  6\\\\\n\t  3.7 & 1 &  7\\\\\n\t  0.8 & 1 &  8\\\\\n\t  0.0 & 1 &  9\\\\\n\t  2.0 & 1 & 10\\\\\n\t  1.9 & 2 &  1\\\\\n\t  0.8 & 2 &  2\\\\\n\t  1.1 & 2 &  3\\\\\n\t  0.1 & 2 &  4\\\\\n\t -0.1 & 2 &  5\\\\\n\t  4.4 & 2 &  6\\\\\n\t  5.5 & 2 &  7\\\\\n\t  1.6 & 2 &  8\\\\\n\t  4.6 & 2 &  9\\\\\n\t  3.4 & 2 & 10\\\\\n\\end{tabular}\n",
            "text/plain": [
              "   extra group ID\n",
              "1   0.7  1      1\n",
              "2  -1.6  1      2\n",
              "3  -0.2  1      3\n",
              "4  -1.2  1      4\n",
              "5  -0.1  1      5\n",
              "6   3.4  1      6\n",
              "7   3.7  1      7\n",
              "8   0.8  1      8\n",
              "9   0.0  1      9\n",
              "10  2.0  1     10\n",
              "11  1.9  2      1\n",
              "12  0.8  2      2\n",
              "13  1.1  2      3\n",
              "14  0.1  2      4\n",
              "15 -0.1  2      5\n",
              "16  4.4  2      6\n",
              "17  5.5  2      7\n",
              "18  1.6  2      8\n",
              "19  4.6  2      9\n",
              "20  3.4  2     10"
            ]
          },
          "metadata": {}
        }
      ]
    },
    {
      "cell_type": "code",
      "source": [
        "#filter\n",
        "#is.na()\n",
        "#%>% pipe\n",
        "\n",
        "df %>%filter(!is.na(extra))"
      ],
      "metadata": {
        "colab": {
          "base_uri": "https://localhost:8080/",
          "height": 725
        },
        "id": "mIJq77cUeTP5",
        "outputId": "85e283b2-0999-4f55-b08b-cbe42c9b3002"
      },
      "execution_count": null,
      "outputs": [
        {
          "output_type": "display_data",
          "data": {
            "text/html": [
              "<table class=\"dataframe\">\n",
              "<caption>A data.frame: 20 × 4</caption>\n",
              "<thead>\n",
              "\t<tr><th scope=col>X</th><th scope=col>extra</th><th scope=col>group</th><th scope=col>ID</th></tr>\n",
              "\t<tr><th scope=col>&lt;int&gt;</th><th scope=col>&lt;dbl&gt;</th><th scope=col>&lt;int&gt;</th><th scope=col>&lt;int&gt;</th></tr>\n",
              "</thead>\n",
              "<tbody>\n",
              "\t<tr><td> 1</td><td> 0.7</td><td>1</td><td> 1</td></tr>\n",
              "\t<tr><td> 2</td><td>-1.6</td><td>1</td><td> 2</td></tr>\n",
              "\t<tr><td> 3</td><td>-0.2</td><td>1</td><td> 3</td></tr>\n",
              "\t<tr><td> 4</td><td>-1.2</td><td>1</td><td> 4</td></tr>\n",
              "\t<tr><td> 5</td><td>-0.1</td><td>1</td><td> 5</td></tr>\n",
              "\t<tr><td> 6</td><td> 3.4</td><td>1</td><td> 6</td></tr>\n",
              "\t<tr><td> 7</td><td> 3.7</td><td>1</td><td> 7</td></tr>\n",
              "\t<tr><td> 8</td><td> 0.8</td><td>1</td><td> 8</td></tr>\n",
              "\t<tr><td> 9</td><td> 0.0</td><td>1</td><td> 9</td></tr>\n",
              "\t<tr><td>10</td><td> 2.0</td><td>1</td><td>10</td></tr>\n",
              "\t<tr><td>11</td><td> 1.9</td><td>2</td><td> 1</td></tr>\n",
              "\t<tr><td>12</td><td> 0.8</td><td>2</td><td> 2</td></tr>\n",
              "\t<tr><td>13</td><td> 1.1</td><td>2</td><td> 3</td></tr>\n",
              "\t<tr><td>14</td><td> 0.1</td><td>2</td><td> 4</td></tr>\n",
              "\t<tr><td>15</td><td>-0.1</td><td>2</td><td> 5</td></tr>\n",
              "\t<tr><td>16</td><td> 4.4</td><td>2</td><td> 6</td></tr>\n",
              "\t<tr><td>17</td><td> 5.5</td><td>2</td><td> 7</td></tr>\n",
              "\t<tr><td>18</td><td> 1.6</td><td>2</td><td> 8</td></tr>\n",
              "\t<tr><td>19</td><td> 4.6</td><td>2</td><td> 9</td></tr>\n",
              "\t<tr><td>20</td><td> 3.4</td><td>2</td><td>10</td></tr>\n",
              "</tbody>\n",
              "</table>\n"
            ],
            "text/markdown": "\nA data.frame: 20 × 4\n\n| X &lt;int&gt; | extra &lt;dbl&gt; | group &lt;int&gt; | ID &lt;int&gt; |\n|---|---|---|---|\n|  1 |  0.7 | 1 |  1 |\n|  2 | -1.6 | 1 |  2 |\n|  3 | -0.2 | 1 |  3 |\n|  4 | -1.2 | 1 |  4 |\n|  5 | -0.1 | 1 |  5 |\n|  6 |  3.4 | 1 |  6 |\n|  7 |  3.7 | 1 |  7 |\n|  8 |  0.8 | 1 |  8 |\n|  9 |  0.0 | 1 |  9 |\n| 10 |  2.0 | 1 | 10 |\n| 11 |  1.9 | 2 |  1 |\n| 12 |  0.8 | 2 |  2 |\n| 13 |  1.1 | 2 |  3 |\n| 14 |  0.1 | 2 |  4 |\n| 15 | -0.1 | 2 |  5 |\n| 16 |  4.4 | 2 |  6 |\n| 17 |  5.5 | 2 |  7 |\n| 18 |  1.6 | 2 |  8 |\n| 19 |  4.6 | 2 |  9 |\n| 20 |  3.4 | 2 | 10 |\n\n",
            "text/latex": "A data.frame: 20 × 4\n\\begin{tabular}{llll}\n X & extra & group & ID\\\\\n <int> & <dbl> & <int> & <int>\\\\\n\\hline\n\t  1 &  0.7 & 1 &  1\\\\\n\t  2 & -1.6 & 1 &  2\\\\\n\t  3 & -0.2 & 1 &  3\\\\\n\t  4 & -1.2 & 1 &  4\\\\\n\t  5 & -0.1 & 1 &  5\\\\\n\t  6 &  3.4 & 1 &  6\\\\\n\t  7 &  3.7 & 1 &  7\\\\\n\t  8 &  0.8 & 1 &  8\\\\\n\t  9 &  0.0 & 1 &  9\\\\\n\t 10 &  2.0 & 1 & 10\\\\\n\t 11 &  1.9 & 2 &  1\\\\\n\t 12 &  0.8 & 2 &  2\\\\\n\t 13 &  1.1 & 2 &  3\\\\\n\t 14 &  0.1 & 2 &  4\\\\\n\t 15 & -0.1 & 2 &  5\\\\\n\t 16 &  4.4 & 2 &  6\\\\\n\t 17 &  5.5 & 2 &  7\\\\\n\t 18 &  1.6 & 2 &  8\\\\\n\t 19 &  4.6 & 2 &  9\\\\\n\t 20 &  3.4 & 2 & 10\\\\\n\\end{tabular}\n",
            "text/plain": [
              "   X  extra group ID\n",
              "1   1  0.7  1      1\n",
              "2   2 -1.6  1      2\n",
              "3   3 -0.2  1      3\n",
              "4   4 -1.2  1      4\n",
              "5   5 -0.1  1      5\n",
              "6   6  3.4  1      6\n",
              "7   7  3.7  1      7\n",
              "8   8  0.8  1      8\n",
              "9   9  0.0  1      9\n",
              "10 10  2.0  1     10\n",
              "11 11  1.9  2      1\n",
              "12 12  0.8  2      2\n",
              "13 13  1.1  2      3\n",
              "14 14  0.1  2      4\n",
              "15 15 -0.1  2      5\n",
              "16 16  4.4  2      6\n",
              "17 17  5.5  2      7\n",
              "18 18  1.6  2      8\n",
              "19 19  4.6  2      9\n",
              "20 20  3.4  2     10"
            ]
          },
          "metadata": {}
        }
      ]
    },
    {
      "cell_type": "code",
      "source": [
        "df%>%filter(is.na(ID\t)) # to find missing objects"
      ],
      "metadata": {
        "colab": {
          "base_uri": "https://localhost:8080/",
          "height": 98
        },
        "id": "r2q1TbufeTTb",
        "outputId": "9e0c57b0-ecfd-4f42-a6f5-d7dddacef616"
      },
      "execution_count": null,
      "outputs": [
        {
          "output_type": "display_data",
          "data": {
            "text/html": [
              "<table class=\"dataframe\">\n",
              "<caption>A data.frame: 0 × 4</caption>\n",
              "<thead>\n",
              "\t<tr><th scope=col>X</th><th scope=col>extra</th><th scope=col>group</th><th scope=col>ID</th></tr>\n",
              "\t<tr><th scope=col>&lt;int&gt;</th><th scope=col>&lt;dbl&gt;</th><th scope=col>&lt;int&gt;</th><th scope=col>&lt;int&gt;</th></tr>\n",
              "</thead>\n",
              "<tbody>\n",
              "</tbody>\n",
              "</table>\n"
            ],
            "text/markdown": "\nA data.frame: 0 × 4\n\n| X &lt;int&gt; | extra &lt;dbl&gt; | group &lt;int&gt; | ID &lt;int&gt; |\n|---|---|---|---|\n\n",
            "text/latex": "A data.frame: 0 × 4\n\\begin{tabular}{llll}\n X & extra & group & ID\\\\\n <int> & <dbl> & <int> & <int>\\\\\n\\hline\n\\end{tabular}\n",
            "text/plain": [
              "     X extra group ID"
            ]
          },
          "metadata": {}
        }
      ]
    },
    {
      "cell_type": "code",
      "source": [
        "sum(is.na(df))         # to find the toatl sum of missing objects"
      ],
      "metadata": {
        "colab": {
          "base_uri": "https://localhost:8080/",
          "height": 34
        },
        "id": "IpLgCfxxgLYd",
        "outputId": "ea2f6bf5-7aad-469c-9b2e-bfc93a826d2c"
      },
      "execution_count": null,
      "outputs": [
        {
          "output_type": "display_data",
          "data": {
            "text/html": [
              "0"
            ],
            "text/markdown": "0",
            "text/latex": "0",
            "text/plain": [
              "[1] 0"
            ]
          },
          "metadata": {}
        }
      ]
    },
    {
      "cell_type": "code",
      "source": [
        "arrange(df,group)"
      ],
      "metadata": {
        "colab": {
          "base_uri": "https://localhost:8080/",
          "height": 725
        },
        "id": "pmfp7NSJgcCL",
        "outputId": "d97eda00-8807-4652-e442-95ba101c4a3f"
      },
      "execution_count": null,
      "outputs": [
        {
          "output_type": "display_data",
          "data": {
            "text/html": [
              "<table class=\"dataframe\">\n",
              "<caption>A data.frame: 20 × 4</caption>\n",
              "<thead>\n",
              "\t<tr><th scope=col>X</th><th scope=col>extra</th><th scope=col>group</th><th scope=col>ID</th></tr>\n",
              "\t<tr><th scope=col>&lt;int&gt;</th><th scope=col>&lt;dbl&gt;</th><th scope=col>&lt;int&gt;</th><th scope=col>&lt;int&gt;</th></tr>\n",
              "</thead>\n",
              "<tbody>\n",
              "\t<tr><td> 1</td><td> 0.7</td><td>1</td><td> 1</td></tr>\n",
              "\t<tr><td> 2</td><td>-1.6</td><td>1</td><td> 2</td></tr>\n",
              "\t<tr><td> 3</td><td>-0.2</td><td>1</td><td> 3</td></tr>\n",
              "\t<tr><td> 4</td><td>-1.2</td><td>1</td><td> 4</td></tr>\n",
              "\t<tr><td> 5</td><td>-0.1</td><td>1</td><td> 5</td></tr>\n",
              "\t<tr><td> 6</td><td> 3.4</td><td>1</td><td> 6</td></tr>\n",
              "\t<tr><td> 7</td><td> 3.7</td><td>1</td><td> 7</td></tr>\n",
              "\t<tr><td> 8</td><td> 0.8</td><td>1</td><td> 8</td></tr>\n",
              "\t<tr><td> 9</td><td> 0.0</td><td>1</td><td> 9</td></tr>\n",
              "\t<tr><td>10</td><td> 2.0</td><td>1</td><td>10</td></tr>\n",
              "\t<tr><td>11</td><td> 1.9</td><td>2</td><td> 1</td></tr>\n",
              "\t<tr><td>12</td><td> 0.8</td><td>2</td><td> 2</td></tr>\n",
              "\t<tr><td>13</td><td> 1.1</td><td>2</td><td> 3</td></tr>\n",
              "\t<tr><td>14</td><td> 0.1</td><td>2</td><td> 4</td></tr>\n",
              "\t<tr><td>15</td><td>-0.1</td><td>2</td><td> 5</td></tr>\n",
              "\t<tr><td>16</td><td> 4.4</td><td>2</td><td> 6</td></tr>\n",
              "\t<tr><td>17</td><td> 5.5</td><td>2</td><td> 7</td></tr>\n",
              "\t<tr><td>18</td><td> 1.6</td><td>2</td><td> 8</td></tr>\n",
              "\t<tr><td>19</td><td> 4.6</td><td>2</td><td> 9</td></tr>\n",
              "\t<tr><td>20</td><td> 3.4</td><td>2</td><td>10</td></tr>\n",
              "</tbody>\n",
              "</table>\n"
            ],
            "text/markdown": "\nA data.frame: 20 × 4\n\n| X &lt;int&gt; | extra &lt;dbl&gt; | group &lt;int&gt; | ID &lt;int&gt; |\n|---|---|---|---|\n|  1 |  0.7 | 1 |  1 |\n|  2 | -1.6 | 1 |  2 |\n|  3 | -0.2 | 1 |  3 |\n|  4 | -1.2 | 1 |  4 |\n|  5 | -0.1 | 1 |  5 |\n|  6 |  3.4 | 1 |  6 |\n|  7 |  3.7 | 1 |  7 |\n|  8 |  0.8 | 1 |  8 |\n|  9 |  0.0 | 1 |  9 |\n| 10 |  2.0 | 1 | 10 |\n| 11 |  1.9 | 2 |  1 |\n| 12 |  0.8 | 2 |  2 |\n| 13 |  1.1 | 2 |  3 |\n| 14 |  0.1 | 2 |  4 |\n| 15 | -0.1 | 2 |  5 |\n| 16 |  4.4 | 2 |  6 |\n| 17 |  5.5 | 2 |  7 |\n| 18 |  1.6 | 2 |  8 |\n| 19 |  4.6 | 2 |  9 |\n| 20 |  3.4 | 2 | 10 |\n\n",
            "text/latex": "A data.frame: 20 × 4\n\\begin{tabular}{llll}\n X & extra & group & ID\\\\\n <int> & <dbl> & <int> & <int>\\\\\n\\hline\n\t  1 &  0.7 & 1 &  1\\\\\n\t  2 & -1.6 & 1 &  2\\\\\n\t  3 & -0.2 & 1 &  3\\\\\n\t  4 & -1.2 & 1 &  4\\\\\n\t  5 & -0.1 & 1 &  5\\\\\n\t  6 &  3.4 & 1 &  6\\\\\n\t  7 &  3.7 & 1 &  7\\\\\n\t  8 &  0.8 & 1 &  8\\\\\n\t  9 &  0.0 & 1 &  9\\\\\n\t 10 &  2.0 & 1 & 10\\\\\n\t 11 &  1.9 & 2 &  1\\\\\n\t 12 &  0.8 & 2 &  2\\\\\n\t 13 &  1.1 & 2 &  3\\\\\n\t 14 &  0.1 & 2 &  4\\\\\n\t 15 & -0.1 & 2 &  5\\\\\n\t 16 &  4.4 & 2 &  6\\\\\n\t 17 &  5.5 & 2 &  7\\\\\n\t 18 &  1.6 & 2 &  8\\\\\n\t 19 &  4.6 & 2 &  9\\\\\n\t 20 &  3.4 & 2 & 10\\\\\n\\end{tabular}\n",
            "text/plain": [
              "   X  extra group ID\n",
              "1   1  0.7  1      1\n",
              "2   2 -1.6  1      2\n",
              "3   3 -0.2  1      3\n",
              "4   4 -1.2  1      4\n",
              "5   5 -0.1  1      5\n",
              "6   6  3.4  1      6\n",
              "7   7  3.7  1      7\n",
              "8   8  0.8  1      8\n",
              "9   9  0.0  1      9\n",
              "10 10  2.0  1     10\n",
              "11 11  1.9  2      1\n",
              "12 12  0.8  2      2\n",
              "13 13  1.1  2      3\n",
              "14 14  0.1  2      4\n",
              "15 15 -0.1  2      5\n",
              "16 16  4.4  2      6\n",
              "17 17  5.5  2      7\n",
              "18 18  1.6  2      8\n",
              "19 19  4.6  2      9\n",
              "20 20  3.4  2     10"
            ]
          },
          "metadata": {}
        }
      ]
    },
    {
      "cell_type": "code",
      "source": [
        "select(df,starts_with(\"e\"))         #display col which starts with e"
      ],
      "metadata": {
        "colab": {
          "base_uri": "https://localhost:8080/",
          "height": 760
        },
        "id": "BbjAiAGUeTWb",
        "outputId": "e98fb380-2c17-44ce-fd08-d37727aefd25"
      },
      "execution_count": null,
      "outputs": [
        {
          "output_type": "display_data",
          "data": {
            "text/html": [
              "<table class=\"dataframe\">\n",
              "<caption>A data.frame: 20 × 1</caption>\n",
              "<thead>\n",
              "\t<tr><th scope=col>extra</th></tr>\n",
              "\t<tr><th scope=col>&lt;dbl&gt;</th></tr>\n",
              "</thead>\n",
              "<tbody>\n",
              "\t<tr><td> 0.7</td></tr>\n",
              "\t<tr><td>-1.6</td></tr>\n",
              "\t<tr><td>-0.2</td></tr>\n",
              "\t<tr><td>-1.2</td></tr>\n",
              "\t<tr><td>-0.1</td></tr>\n",
              "\t<tr><td> 3.4</td></tr>\n",
              "\t<tr><td> 3.7</td></tr>\n",
              "\t<tr><td> 0.8</td></tr>\n",
              "\t<tr><td> 0.0</td></tr>\n",
              "\t<tr><td> 2.0</td></tr>\n",
              "\t<tr><td> 1.9</td></tr>\n",
              "\t<tr><td> 0.8</td></tr>\n",
              "\t<tr><td> 1.1</td></tr>\n",
              "\t<tr><td> 0.1</td></tr>\n",
              "\t<tr><td>-0.1</td></tr>\n",
              "\t<tr><td> 4.4</td></tr>\n",
              "\t<tr><td> 5.5</td></tr>\n",
              "\t<tr><td> 1.6</td></tr>\n",
              "\t<tr><td> 4.6</td></tr>\n",
              "\t<tr><td> 3.4</td></tr>\n",
              "</tbody>\n",
              "</table>\n"
            ],
            "text/markdown": "\nA data.frame: 20 × 1\n\n| extra &lt;dbl&gt; |\n|---|\n|  0.7 |\n| -1.6 |\n| -0.2 |\n| -1.2 |\n| -0.1 |\n|  3.4 |\n|  3.7 |\n|  0.8 |\n|  0.0 |\n|  2.0 |\n|  1.9 |\n|  0.8 |\n|  1.1 |\n|  0.1 |\n| -0.1 |\n|  4.4 |\n|  5.5 |\n|  1.6 |\n|  4.6 |\n|  3.4 |\n\n",
            "text/latex": "A data.frame: 20 × 1\n\\begin{tabular}{l}\n extra\\\\\n <dbl>\\\\\n\\hline\n\t  0.7\\\\\n\t -1.6\\\\\n\t -0.2\\\\\n\t -1.2\\\\\n\t -0.1\\\\\n\t  3.4\\\\\n\t  3.7\\\\\n\t  0.8\\\\\n\t  0.0\\\\\n\t  2.0\\\\\n\t  1.9\\\\\n\t  0.8\\\\\n\t  1.1\\\\\n\t  0.1\\\\\n\t -0.1\\\\\n\t  4.4\\\\\n\t  5.5\\\\\n\t  1.6\\\\\n\t  4.6\\\\\n\t  3.4\\\\\n\\end{tabular}\n",
            "text/plain": [
              "   extra\n",
              "1   0.7 \n",
              "2  -1.6 \n",
              "3  -0.2 \n",
              "4  -1.2 \n",
              "5  -0.1 \n",
              "6   3.4 \n",
              "7   3.7 \n",
              "8   0.8 \n",
              "9   0.0 \n",
              "10  2.0 \n",
              "11  1.9 \n",
              "12  0.8 \n",
              "13  1.1 \n",
              "14  0.1 \n",
              "15 -0.1 \n",
              "16  4.4 \n",
              "17  5.5 \n",
              "18  1.6 \n",
              "19  4.6 \n",
              "20  3.4 "
            ]
          },
          "metadata": {}
        }
      ]
    },
    {
      "cell_type": "code",
      "source": [
        "select(df,matches(\"I\"))         # it display the columns which having \"I\""
      ],
      "metadata": {
        "colab": {
          "base_uri": "https://localhost:8080/",
          "height": 760
        },
        "id": "tE86WnvgeTZv",
        "outputId": "460c83d6-326e-4a81-93cc-143d3e98cd7f"
      },
      "execution_count": null,
      "outputs": [
        {
          "output_type": "display_data",
          "data": {
            "text/html": [
              "<table class=\"dataframe\">\n",
              "<caption>A data.frame: 20 × 1</caption>\n",
              "<thead>\n",
              "\t<tr><th scope=col>ID</th></tr>\n",
              "\t<tr><th scope=col>&lt;int&gt;</th></tr>\n",
              "</thead>\n",
              "<tbody>\n",
              "\t<tr><td> 1</td></tr>\n",
              "\t<tr><td> 2</td></tr>\n",
              "\t<tr><td> 3</td></tr>\n",
              "\t<tr><td> 4</td></tr>\n",
              "\t<tr><td> 5</td></tr>\n",
              "\t<tr><td> 6</td></tr>\n",
              "\t<tr><td> 7</td></tr>\n",
              "\t<tr><td> 8</td></tr>\n",
              "\t<tr><td> 9</td></tr>\n",
              "\t<tr><td>10</td></tr>\n",
              "\t<tr><td> 1</td></tr>\n",
              "\t<tr><td> 2</td></tr>\n",
              "\t<tr><td> 3</td></tr>\n",
              "\t<tr><td> 4</td></tr>\n",
              "\t<tr><td> 5</td></tr>\n",
              "\t<tr><td> 6</td></tr>\n",
              "\t<tr><td> 7</td></tr>\n",
              "\t<tr><td> 8</td></tr>\n",
              "\t<tr><td> 9</td></tr>\n",
              "\t<tr><td>10</td></tr>\n",
              "</tbody>\n",
              "</table>\n"
            ],
            "text/markdown": "\nA data.frame: 20 × 1\n\n| ID &lt;int&gt; |\n|---|\n|  1 |\n|  2 |\n|  3 |\n|  4 |\n|  5 |\n|  6 |\n|  7 |\n|  8 |\n|  9 |\n| 10 |\n|  1 |\n|  2 |\n|  3 |\n|  4 |\n|  5 |\n|  6 |\n|  7 |\n|  8 |\n|  9 |\n| 10 |\n\n",
            "text/latex": "A data.frame: 20 × 1\n\\begin{tabular}{l}\n ID\\\\\n <int>\\\\\n\\hline\n\t  1\\\\\n\t  2\\\\\n\t  3\\\\\n\t  4\\\\\n\t  5\\\\\n\t  6\\\\\n\t  7\\\\\n\t  8\\\\\n\t  9\\\\\n\t 10\\\\\n\t  1\\\\\n\t  2\\\\\n\t  3\\\\\n\t  4\\\\\n\t  5\\\\\n\t  6\\\\\n\t  7\\\\\n\t  8\\\\\n\t  9\\\\\n\t 10\\\\\n\\end{tabular}\n",
            "text/plain": [
              "   ID\n",
              "1   1\n",
              "2   2\n",
              "3   3\n",
              "4   4\n",
              "5   5\n",
              "6   6\n",
              "7   7\n",
              "8   8\n",
              "9   9\n",
              "10 10\n",
              "11  1\n",
              "12  2\n",
              "13  3\n",
              "14  4\n",
              "15  5\n",
              "16  6\n",
              "17  7\n",
              "18  8\n",
              "19  9\n",
              "20 10"
            ]
          },
          "metadata": {}
        }
      ]
    },
    {
      "cell_type": "code",
      "source": [
        "mutate(df,Updategroup=group+1) #append in existing data frame"
      ],
      "metadata": {
        "colab": {
          "base_uri": "https://localhost:8080/",
          "height": 725
        },
        "id": "HHeVnwVTeThq",
        "outputId": "0117f9e5-5d60-4f1d-a7c0-81bf31ca310d"
      },
      "execution_count": null,
      "outputs": [
        {
          "output_type": "display_data",
          "data": {
            "text/html": [
              "<table class=\"dataframe\">\n",
              "<caption>A data.frame: 20 × 5</caption>\n",
              "<thead>\n",
              "\t<tr><th scope=col>X</th><th scope=col>extra</th><th scope=col>group</th><th scope=col>ID</th><th scope=col>Updategroup</th></tr>\n",
              "\t<tr><th scope=col>&lt;int&gt;</th><th scope=col>&lt;dbl&gt;</th><th scope=col>&lt;int&gt;</th><th scope=col>&lt;int&gt;</th><th scope=col>&lt;dbl&gt;</th></tr>\n",
              "</thead>\n",
              "<tbody>\n",
              "\t<tr><td> 1</td><td> 0.7</td><td>1</td><td> 1</td><td>2</td></tr>\n",
              "\t<tr><td> 2</td><td>-1.6</td><td>1</td><td> 2</td><td>2</td></tr>\n",
              "\t<tr><td> 3</td><td>-0.2</td><td>1</td><td> 3</td><td>2</td></tr>\n",
              "\t<tr><td> 4</td><td>-1.2</td><td>1</td><td> 4</td><td>2</td></tr>\n",
              "\t<tr><td> 5</td><td>-0.1</td><td>1</td><td> 5</td><td>2</td></tr>\n",
              "\t<tr><td> 6</td><td> 3.4</td><td>1</td><td> 6</td><td>2</td></tr>\n",
              "\t<tr><td> 7</td><td> 3.7</td><td>1</td><td> 7</td><td>2</td></tr>\n",
              "\t<tr><td> 8</td><td> 0.8</td><td>1</td><td> 8</td><td>2</td></tr>\n",
              "\t<tr><td> 9</td><td> 0.0</td><td>1</td><td> 9</td><td>2</td></tr>\n",
              "\t<tr><td>10</td><td> 2.0</td><td>1</td><td>10</td><td>2</td></tr>\n",
              "\t<tr><td>11</td><td> 1.9</td><td>2</td><td> 1</td><td>3</td></tr>\n",
              "\t<tr><td>12</td><td> 0.8</td><td>2</td><td> 2</td><td>3</td></tr>\n",
              "\t<tr><td>13</td><td> 1.1</td><td>2</td><td> 3</td><td>3</td></tr>\n",
              "\t<tr><td>14</td><td> 0.1</td><td>2</td><td> 4</td><td>3</td></tr>\n",
              "\t<tr><td>15</td><td>-0.1</td><td>2</td><td> 5</td><td>3</td></tr>\n",
              "\t<tr><td>16</td><td> 4.4</td><td>2</td><td> 6</td><td>3</td></tr>\n",
              "\t<tr><td>17</td><td> 5.5</td><td>2</td><td> 7</td><td>3</td></tr>\n",
              "\t<tr><td>18</td><td> 1.6</td><td>2</td><td> 8</td><td>3</td></tr>\n",
              "\t<tr><td>19</td><td> 4.6</td><td>2</td><td> 9</td><td>3</td></tr>\n",
              "\t<tr><td>20</td><td> 3.4</td><td>2</td><td>10</td><td>3</td></tr>\n",
              "</tbody>\n",
              "</table>\n"
            ],
            "text/markdown": "\nA data.frame: 20 × 5\n\n| X &lt;int&gt; | extra &lt;dbl&gt; | group &lt;int&gt; | ID &lt;int&gt; | Updategroup &lt;dbl&gt; |\n|---|---|---|---|---|\n|  1 |  0.7 | 1 |  1 | 2 |\n|  2 | -1.6 | 1 |  2 | 2 |\n|  3 | -0.2 | 1 |  3 | 2 |\n|  4 | -1.2 | 1 |  4 | 2 |\n|  5 | -0.1 | 1 |  5 | 2 |\n|  6 |  3.4 | 1 |  6 | 2 |\n|  7 |  3.7 | 1 |  7 | 2 |\n|  8 |  0.8 | 1 |  8 | 2 |\n|  9 |  0.0 | 1 |  9 | 2 |\n| 10 |  2.0 | 1 | 10 | 2 |\n| 11 |  1.9 | 2 |  1 | 3 |\n| 12 |  0.8 | 2 |  2 | 3 |\n| 13 |  1.1 | 2 |  3 | 3 |\n| 14 |  0.1 | 2 |  4 | 3 |\n| 15 | -0.1 | 2 |  5 | 3 |\n| 16 |  4.4 | 2 |  6 | 3 |\n| 17 |  5.5 | 2 |  7 | 3 |\n| 18 |  1.6 | 2 |  8 | 3 |\n| 19 |  4.6 | 2 |  9 | 3 |\n| 20 |  3.4 | 2 | 10 | 3 |\n\n",
            "text/latex": "A data.frame: 20 × 5\n\\begin{tabular}{lllll}\n X & extra & group & ID & Updategroup\\\\\n <int> & <dbl> & <int> & <int> & <dbl>\\\\\n\\hline\n\t  1 &  0.7 & 1 &  1 & 2\\\\\n\t  2 & -1.6 & 1 &  2 & 2\\\\\n\t  3 & -0.2 & 1 &  3 & 2\\\\\n\t  4 & -1.2 & 1 &  4 & 2\\\\\n\t  5 & -0.1 & 1 &  5 & 2\\\\\n\t  6 &  3.4 & 1 &  6 & 2\\\\\n\t  7 &  3.7 & 1 &  7 & 2\\\\\n\t  8 &  0.8 & 1 &  8 & 2\\\\\n\t  9 &  0.0 & 1 &  9 & 2\\\\\n\t 10 &  2.0 & 1 & 10 & 2\\\\\n\t 11 &  1.9 & 2 &  1 & 3\\\\\n\t 12 &  0.8 & 2 &  2 & 3\\\\\n\t 13 &  1.1 & 2 &  3 & 3\\\\\n\t 14 &  0.1 & 2 &  4 & 3\\\\\n\t 15 & -0.1 & 2 &  5 & 3\\\\\n\t 16 &  4.4 & 2 &  6 & 3\\\\\n\t 17 &  5.5 & 2 &  7 & 3\\\\\n\t 18 &  1.6 & 2 &  8 & 3\\\\\n\t 19 &  4.6 & 2 &  9 & 3\\\\\n\t 20 &  3.4 & 2 & 10 & 3\\\\\n\\end{tabular}\n",
            "text/plain": [
              "   X  extra group ID Updategroup\n",
              "1   1  0.7  1      1 2          \n",
              "2   2 -1.6  1      2 2          \n",
              "3   3 -0.2  1      3 2          \n",
              "4   4 -1.2  1      4 2          \n",
              "5   5 -0.1  1      5 2          \n",
              "6   6  3.4  1      6 2          \n",
              "7   7  3.7  1      7 2          \n",
              "8   8  0.8  1      8 2          \n",
              "9   9  0.0  1      9 2          \n",
              "10 10  2.0  1     10 2          \n",
              "11 11  1.9  2      1 3          \n",
              "12 12  0.8  2      2 3          \n",
              "13 13  1.1  2      3 3          \n",
              "14 14  0.1  2      4 3          \n",
              "15 15 -0.1  2      5 3          \n",
              "16 16  4.4  2      6 3          \n",
              "17 17  5.5  2      7 3          \n",
              "18 18  1.6  2      8 3          \n",
              "19 19  4.6  2      9 3          \n",
              "20 20  3.4  2     10 3          "
            ]
          },
          "metadata": {}
        }
      ]
    },
    {
      "cell_type": "code",
      "source": [
        "sleep %>% arrange(pick(starts_with(\"x\")))"
      ],
      "metadata": {
        "colab": {
          "base_uri": "https://localhost:8080/",
          "height": 725
        },
        "id": "wDeEpbFaiBdH",
        "outputId": "d3d2b3e8-44cd-4865-87b4-f09870d002e3"
      },
      "execution_count": null,
      "outputs": [
        {
          "output_type": "display_data",
          "data": {
            "text/html": [
              "<table class=\"dataframe\">\n",
              "<caption>A data.frame: 20 × 3</caption>\n",
              "<thead>\n",
              "\t<tr><th scope=col>extra</th><th scope=col>group</th><th scope=col>ID</th></tr>\n",
              "\t<tr><th scope=col>&lt;dbl&gt;</th><th scope=col>&lt;fct&gt;</th><th scope=col>&lt;fct&gt;</th></tr>\n",
              "</thead>\n",
              "<tbody>\n",
              "\t<tr><td> 0.7</td><td>1</td><td>1 </td></tr>\n",
              "\t<tr><td>-1.6</td><td>1</td><td>2 </td></tr>\n",
              "\t<tr><td>-0.2</td><td>1</td><td>3 </td></tr>\n",
              "\t<tr><td>-1.2</td><td>1</td><td>4 </td></tr>\n",
              "\t<tr><td>-0.1</td><td>1</td><td>5 </td></tr>\n",
              "\t<tr><td> 3.4</td><td>1</td><td>6 </td></tr>\n",
              "\t<tr><td> 3.7</td><td>1</td><td>7 </td></tr>\n",
              "\t<tr><td> 0.8</td><td>1</td><td>8 </td></tr>\n",
              "\t<tr><td> 0.0</td><td>1</td><td>9 </td></tr>\n",
              "\t<tr><td> 2.0</td><td>1</td><td>10</td></tr>\n",
              "\t<tr><td> 1.9</td><td>2</td><td>1 </td></tr>\n",
              "\t<tr><td> 0.8</td><td>2</td><td>2 </td></tr>\n",
              "\t<tr><td> 1.1</td><td>2</td><td>3 </td></tr>\n",
              "\t<tr><td> 0.1</td><td>2</td><td>4 </td></tr>\n",
              "\t<tr><td>-0.1</td><td>2</td><td>5 </td></tr>\n",
              "\t<tr><td> 4.4</td><td>2</td><td>6 </td></tr>\n",
              "\t<tr><td> 5.5</td><td>2</td><td>7 </td></tr>\n",
              "\t<tr><td> 1.6</td><td>2</td><td>8 </td></tr>\n",
              "\t<tr><td> 4.6</td><td>2</td><td>9 </td></tr>\n",
              "\t<tr><td> 3.4</td><td>2</td><td>10</td></tr>\n",
              "</tbody>\n",
              "</table>\n"
            ],
            "text/markdown": "\nA data.frame: 20 × 3\n\n| extra &lt;dbl&gt; | group &lt;fct&gt; | ID &lt;fct&gt; |\n|---|---|---|\n|  0.7 | 1 | 1  |\n| -1.6 | 1 | 2  |\n| -0.2 | 1 | 3  |\n| -1.2 | 1 | 4  |\n| -0.1 | 1 | 5  |\n|  3.4 | 1 | 6  |\n|  3.7 | 1 | 7  |\n|  0.8 | 1 | 8  |\n|  0.0 | 1 | 9  |\n|  2.0 | 1 | 10 |\n|  1.9 | 2 | 1  |\n|  0.8 | 2 | 2  |\n|  1.1 | 2 | 3  |\n|  0.1 | 2 | 4  |\n| -0.1 | 2 | 5  |\n|  4.4 | 2 | 6  |\n|  5.5 | 2 | 7  |\n|  1.6 | 2 | 8  |\n|  4.6 | 2 | 9  |\n|  3.4 | 2 | 10 |\n\n",
            "text/latex": "A data.frame: 20 × 3\n\\begin{tabular}{lll}\n extra & group & ID\\\\\n <dbl> & <fct> & <fct>\\\\\n\\hline\n\t  0.7 & 1 & 1 \\\\\n\t -1.6 & 1 & 2 \\\\\n\t -0.2 & 1 & 3 \\\\\n\t -1.2 & 1 & 4 \\\\\n\t -0.1 & 1 & 5 \\\\\n\t  3.4 & 1 & 6 \\\\\n\t  3.7 & 1 & 7 \\\\\n\t  0.8 & 1 & 8 \\\\\n\t  0.0 & 1 & 9 \\\\\n\t  2.0 & 1 & 10\\\\\n\t  1.9 & 2 & 1 \\\\\n\t  0.8 & 2 & 2 \\\\\n\t  1.1 & 2 & 3 \\\\\n\t  0.1 & 2 & 4 \\\\\n\t -0.1 & 2 & 5 \\\\\n\t  4.4 & 2 & 6 \\\\\n\t  5.5 & 2 & 7 \\\\\n\t  1.6 & 2 & 8 \\\\\n\t  4.6 & 2 & 9 \\\\\n\t  3.4 & 2 & 10\\\\\n\\end{tabular}\n",
            "text/plain": [
              "   extra group ID\n",
              "1   0.7  1     1 \n",
              "2  -1.6  1     2 \n",
              "3  -0.2  1     3 \n",
              "4  -1.2  1     4 \n",
              "5  -0.1  1     5 \n",
              "6   3.4  1     6 \n",
              "7   3.7  1     7 \n",
              "8   0.8  1     8 \n",
              "9   0.0  1     9 \n",
              "10  2.0  1     10\n",
              "11  1.9  2     1 \n",
              "12  0.8  2     2 \n",
              "13  1.1  2     3 \n",
              "14  0.1  2     4 \n",
              "15 -0.1  2     5 \n",
              "16  4.4  2     6 \n",
              "17  5.5  2     7 \n",
              "18  1.6  2     8 \n",
              "19  4.6  2     9 \n",
              "20  3.4  2     10"
            ]
          },
          "metadata": {}
        }
      ]
    },
    {
      "cell_type": "code",
      "source": [
        "sleep %>% arrange(across(starts_with(\"ID\"), desc))"
      ],
      "metadata": {
        "colab": {
          "base_uri": "https://localhost:8080/",
          "height": 725
        },
        "id": "0WbQ4vg8iBhI",
        "outputId": "9ff4a392-d803-40b3-8889-5ed086611436"
      },
      "execution_count": null,
      "outputs": [
        {
          "output_type": "display_data",
          "data": {
            "text/html": [
              "<table class=\"dataframe\">\n",
              "<caption>A data.frame: 20 × 3</caption>\n",
              "<thead>\n",
              "\t<tr><th scope=col>extra</th><th scope=col>group</th><th scope=col>ID</th></tr>\n",
              "\t<tr><th scope=col>&lt;dbl&gt;</th><th scope=col>&lt;fct&gt;</th><th scope=col>&lt;fct&gt;</th></tr>\n",
              "</thead>\n",
              "<tbody>\n",
              "\t<tr><td> 2.0</td><td>1</td><td>10</td></tr>\n",
              "\t<tr><td> 3.4</td><td>2</td><td>10</td></tr>\n",
              "\t<tr><td> 0.0</td><td>1</td><td>9 </td></tr>\n",
              "\t<tr><td> 4.6</td><td>2</td><td>9 </td></tr>\n",
              "\t<tr><td> 0.8</td><td>1</td><td>8 </td></tr>\n",
              "\t<tr><td> 1.6</td><td>2</td><td>8 </td></tr>\n",
              "\t<tr><td> 3.7</td><td>1</td><td>7 </td></tr>\n",
              "\t<tr><td> 5.5</td><td>2</td><td>7 </td></tr>\n",
              "\t<tr><td> 3.4</td><td>1</td><td>6 </td></tr>\n",
              "\t<tr><td> 4.4</td><td>2</td><td>6 </td></tr>\n",
              "\t<tr><td>-0.1</td><td>1</td><td>5 </td></tr>\n",
              "\t<tr><td>-0.1</td><td>2</td><td>5 </td></tr>\n",
              "\t<tr><td>-1.2</td><td>1</td><td>4 </td></tr>\n",
              "\t<tr><td> 0.1</td><td>2</td><td>4 </td></tr>\n",
              "\t<tr><td>-0.2</td><td>1</td><td>3 </td></tr>\n",
              "\t<tr><td> 1.1</td><td>2</td><td>3 </td></tr>\n",
              "\t<tr><td>-1.6</td><td>1</td><td>2 </td></tr>\n",
              "\t<tr><td> 0.8</td><td>2</td><td>2 </td></tr>\n",
              "\t<tr><td> 0.7</td><td>1</td><td>1 </td></tr>\n",
              "\t<tr><td> 1.9</td><td>2</td><td>1 </td></tr>\n",
              "</tbody>\n",
              "</table>\n"
            ],
            "text/markdown": "\nA data.frame: 20 × 3\n\n| extra &lt;dbl&gt; | group &lt;fct&gt; | ID &lt;fct&gt; |\n|---|---|---|\n|  2.0 | 1 | 10 |\n|  3.4 | 2 | 10 |\n|  0.0 | 1 | 9  |\n|  4.6 | 2 | 9  |\n|  0.8 | 1 | 8  |\n|  1.6 | 2 | 8  |\n|  3.7 | 1 | 7  |\n|  5.5 | 2 | 7  |\n|  3.4 | 1 | 6  |\n|  4.4 | 2 | 6  |\n| -0.1 | 1 | 5  |\n| -0.1 | 2 | 5  |\n| -1.2 | 1 | 4  |\n|  0.1 | 2 | 4  |\n| -0.2 | 1 | 3  |\n|  1.1 | 2 | 3  |\n| -1.6 | 1 | 2  |\n|  0.8 | 2 | 2  |\n|  0.7 | 1 | 1  |\n|  1.9 | 2 | 1  |\n\n",
            "text/latex": "A data.frame: 20 × 3\n\\begin{tabular}{lll}\n extra & group & ID\\\\\n <dbl> & <fct> & <fct>\\\\\n\\hline\n\t  2.0 & 1 & 10\\\\\n\t  3.4 & 2 & 10\\\\\n\t  0.0 & 1 & 9 \\\\\n\t  4.6 & 2 & 9 \\\\\n\t  0.8 & 1 & 8 \\\\\n\t  1.6 & 2 & 8 \\\\\n\t  3.7 & 1 & 7 \\\\\n\t  5.5 & 2 & 7 \\\\\n\t  3.4 & 1 & 6 \\\\\n\t  4.4 & 2 & 6 \\\\\n\t -0.1 & 1 & 5 \\\\\n\t -0.1 & 2 & 5 \\\\\n\t -1.2 & 1 & 4 \\\\\n\t  0.1 & 2 & 4 \\\\\n\t -0.2 & 1 & 3 \\\\\n\t  1.1 & 2 & 3 \\\\\n\t -1.6 & 1 & 2 \\\\\n\t  0.8 & 2 & 2 \\\\\n\t  0.7 & 1 & 1 \\\\\n\t  1.9 & 2 & 1 \\\\\n\\end{tabular}\n",
            "text/plain": [
              "   extra group ID\n",
              "1   2.0  1     10\n",
              "2   3.4  2     10\n",
              "3   0.0  1     9 \n",
              "4   4.6  2     9 \n",
              "5   0.8  1     8 \n",
              "6   1.6  2     8 \n",
              "7   3.7  1     7 \n",
              "8   5.5  2     7 \n",
              "9   3.4  1     6 \n",
              "10  4.4  2     6 \n",
              "11 -0.1  1     5 \n",
              "12 -0.1  2     5 \n",
              "13 -1.2  1     4 \n",
              "14  0.1  2     4 \n",
              "15 -0.2  1     3 \n",
              "16  1.1  2     3 \n",
              "17 -1.6  1     2 \n",
              "18  0.8  2     2 \n",
              "19  0.7  1     1 \n",
              "20  1.9  2     1 "
            ]
          },
          "metadata": {}
        }
      ]
    },
    {
      "cell_type": "code",
      "source": [
        "str(df)     #It shows the Structure of data set"
      ],
      "metadata": {
        "colab": {
          "base_uri": "https://localhost:8080/"
        },
        "id": "_LJNYKhZiBly",
        "outputId": "ed60140f-f82d-4f32-e839-02e85eb69891"
      },
      "execution_count": null,
      "outputs": [
        {
          "output_type": "stream",
          "name": "stdout",
          "text": [
            "'data.frame':\t20 obs. of  4 variables:\n",
            " $ X    : int  1 2 3 4 5 6 7 8 9 10 ...\n",
            " $ extra: num  0.7 -1.6 -0.2 -1.2 -0.1 3.4 3.7 0.8 0 2 ...\n",
            " $ group: int  1 1 1 1 1 1 1 1 1 1 ...\n",
            " $ ID   : int  1 2 3 4 5 6 7 8 9 10 ...\n"
          ]
        }
      ]
    },
    {
      "cell_type": "code",
      "source": [
        "summary(df)     # It shows all information of dataset"
      ],
      "metadata": {
        "colab": {
          "base_uri": "https://localhost:8080/",
          "height": 146
        },
        "id": "xq4kuLPHiiBl",
        "outputId": "d9f704f8-7d5b-48df-d9c6-823c4fc42e3f"
      },
      "execution_count": null,
      "outputs": [
        {
          "output_type": "display_data",
          "data": {
            "text/plain": [
              "       X             extra            group           ID      \n",
              " Min.   : 1.00   Min.   :-1.600   Min.   :1.0   Min.   : 1.0  \n",
              " 1st Qu.: 5.75   1st Qu.:-0.025   1st Qu.:1.0   1st Qu.: 3.0  \n",
              " Median :10.50   Median : 0.950   Median :1.5   Median : 5.5  \n",
              " Mean   :10.50   Mean   : 1.540   Mean   :1.5   Mean   : 5.5  \n",
              " 3rd Qu.:15.25   3rd Qu.: 3.400   3rd Qu.:2.0   3rd Qu.: 8.0  \n",
              " Max.   :20.00   Max.   : 5.500   Max.   :2.0   Max.   :10.0  "
            ]
          },
          "metadata": {}
        }
      ]
    },
    {
      "cell_type": "code",
      "source": [
        "df$ID[df$ID == 10]       "
      ],
      "metadata": {
        "colab": {
          "base_uri": "https://localhost:8080/",
          "height": 34
        },
        "id": "KOx8BNWKiiE2",
        "outputId": "bf0dfe1f-9e16-4e44-9ed3-f6b26ea566f6"
      },
      "execution_count": null,
      "outputs": [
        {
          "output_type": "display_data",
          "data": {
            "text/html": [
              "<style>\n",
              ".list-inline {list-style: none; margin:0; padding: 0}\n",
              ".list-inline>li {display: inline-block}\n",
              ".list-inline>li:not(:last-child)::after {content: \"\\00b7\"; padding: 0 .5ex}\n",
              "</style>\n",
              "<ol class=list-inline><li>10</li><li>10</li></ol>\n"
            ],
            "text/markdown": "1. 10\n2. 10\n\n\n",
            "text/latex": "\\begin{enumerate*}\n\\item 10\n\\item 10\n\\end{enumerate*}\n",
            "text/plain": [
              "[1] 10 10"
            ]
          },
          "metadata": {}
        }
      ]
    },
    {
      "cell_type": "code",
      "source": [
        "df$group"
      ],
      "metadata": {
        "colab": {
          "base_uri": "https://localhost:8080/",
          "height": 34
        },
        "id": "sB2Wz1JHiiIU",
        "outputId": "c342a0a1-2b20-4cba-b612-02e78022b82b"
      },
      "execution_count": null,
      "outputs": [
        {
          "output_type": "display_data",
          "data": {
            "text/html": [
              "<style>\n",
              ".list-inline {list-style: none; margin:0; padding: 0}\n",
              ".list-inline>li {display: inline-block}\n",
              ".list-inline>li:not(:last-child)::after {content: \"\\00b7\"; padding: 0 .5ex}\n",
              "</style>\n",
              "<ol class=list-inline><li>1</li><li>1</li><li>1</li><li>1</li><li>1</li><li>1</li><li>1</li><li>1</li><li>1</li><li>1</li><li>2</li><li>2</li><li>2</li><li>2</li><li>2</li><li>2</li><li>2</li><li>2</li><li>2</li><li>2</li></ol>\n"
            ],
            "text/markdown": "1. 1\n2. 1\n3. 1\n4. 1\n5. 1\n6. 1\n7. 1\n8. 1\n9. 1\n10. 1\n11. 2\n12. 2\n13. 2\n14. 2\n15. 2\n16. 2\n17. 2\n18. 2\n19. 2\n20. 2\n\n\n",
            "text/latex": "\\begin{enumerate*}\n\\item 1\n\\item 1\n\\item 1\n\\item 1\n\\item 1\n\\item 1\n\\item 1\n\\item 1\n\\item 1\n\\item 1\n\\item 2\n\\item 2\n\\item 2\n\\item 2\n\\item 2\n\\item 2\n\\item 2\n\\item 2\n\\item 2\n\\item 2\n\\end{enumerate*}\n",
            "text/plain": [
              " [1] 1 1 1 1 1 1 1 1 1 1 2 2 2 2 2 2 2 2 2 2"
            ]
          },
          "metadata": {}
        }
      ]
    },
    {
      "cell_type": "code",
      "source": [
        "df$extra"
      ],
      "metadata": {
        "colab": {
          "base_uri": "https://localhost:8080/",
          "height": 34
        },
        "id": "XO_shC4RiB4n",
        "outputId": "13d3fd00-1f90-4b44-98b4-bb98890f339e"
      },
      "execution_count": null,
      "outputs": [
        {
          "output_type": "display_data",
          "data": {
            "text/html": [
              "<style>\n",
              ".list-inline {list-style: none; margin:0; padding: 0}\n",
              ".list-inline>li {display: inline-block}\n",
              ".list-inline>li:not(:last-child)::after {content: \"\\00b7\"; padding: 0 .5ex}\n",
              "</style>\n",
              "<ol class=list-inline><li>0.7</li><li>-1.6</li><li>-0.2</li><li>-1.2</li><li>-0.1</li><li>3.4</li><li>3.7</li><li>0.8</li><li>0</li><li>2</li><li>1.9</li><li>0.8</li><li>1.1</li><li>0.1</li><li>-0.1</li><li>4.4</li><li>5.5</li><li>1.6</li><li>4.6</li><li>3.4</li></ol>\n"
            ],
            "text/markdown": "1. 0.7\n2. -1.6\n3. -0.2\n4. -1.2\n5. -0.1\n6. 3.4\n7. 3.7\n8. 0.8\n9. 0\n10. 2\n11. 1.9\n12. 0.8\n13. 1.1\n14. 0.1\n15. -0.1\n16. 4.4\n17. 5.5\n18. 1.6\n19. 4.6\n20. 3.4\n\n\n",
            "text/latex": "\\begin{enumerate*}\n\\item 0.7\n\\item -1.6\n\\item -0.2\n\\item -1.2\n\\item -0.1\n\\item 3.4\n\\item 3.7\n\\item 0.8\n\\item 0\n\\item 2\n\\item 1.9\n\\item 0.8\n\\item 1.1\n\\item 0.1\n\\item -0.1\n\\item 4.4\n\\item 5.5\n\\item 1.6\n\\item 4.6\n\\item 3.4\n\\end{enumerate*}\n",
            "text/plain": [
              " [1]  0.7 -1.6 -0.2 -1.2 -0.1  3.4  3.7  0.8  0.0  2.0  1.9  0.8  1.1  0.1 -0.1\n",
              "[16]  4.4  5.5  1.6  4.6  3.4"
            ]
          },
          "metadata": {}
        }
      ]
    },
    {
      "cell_type": "code",
      "source": [
        "var(sleep$extra, na.rm = FALSE)\n",
        "#The var() function is used to calculate the variance of a numerical vector.\n",
        "#In this case, it is calculating the variance of the \"extra\" variable in the \"sleep\" dataset.\n",
        "# since \"na.rm\" is set to FALSE, missing values will not be removed before computing the variance."
      ],
      "metadata": {
        "colab": {
          "base_uri": "https://localhost:8080/",
          "height": 34
        },
        "id": "rqti37Ypj92F",
        "outputId": "6fd2eae9-b8bc-46c4-b435-f3a2c17f3f65"
      },
      "execution_count": null,
      "outputs": [
        {
          "output_type": "display_data",
          "data": {
            "text/html": [
              "4.072"
            ],
            "text/markdown": "4.072",
            "text/latex": "4.072",
            "text/plain": [
              "[1] 4.072"
            ]
          },
          "metadata": {}
        }
      ]
    },
    {
      "cell_type": "code",
      "source": [
        "sd(sleep$extra,na.rm=TRUE)\n",
        "#it is calculating the standard deviation of the \"extra\" variable in the \"sleep\" dataset.\n",
        "#since \"na.rm\" is set to TRUE, missing values will be removed before computing the standard deviation."
      ],
      "metadata": {
        "colab": {
          "base_uri": "https://localhost:8080/",
          "height": 34
        },
        "id": "83TL2bVXj96U",
        "outputId": "05d77fe9-1a87-41ea-ba35-5d3409a928ad"
      },
      "execution_count": null,
      "outputs": [
        {
          "output_type": "display_data",
          "data": {
            "text/html": [
              "2.01791972090071"
            ],
            "text/markdown": "2.01791972090071",
            "text/latex": "2.01791972090071",
            "text/plain": [
              "[1] 2.01792"
            ]
          },
          "metadata": {}
        }
      ]
    },
    {
      "cell_type": "code",
      "source": [
        "sort(sleep$group)\n",
        "#The sort() function is used to sort a vector in ascending or descending order.\n",
        "#it is sorting the \"group\" variable in ascending order."
      ],
      "metadata": {
        "colab": {
          "base_uri": "https://localhost:8080/",
          "height": 52
        },
        "id": "T1iZeQ2Vj9-j",
        "outputId": "c59a9039-ba40-4110-bee7-8612d171b996"
      },
      "execution_count": null,
      "outputs": [
        {
          "output_type": "display_data",
          "data": {
            "text/html": [
              "<style>\n",
              ".list-inline {list-style: none; margin:0; padding: 0}\n",
              ".list-inline>li {display: inline-block}\n",
              ".list-inline>li:not(:last-child)::after {content: \"\\00b7\"; padding: 0 .5ex}\n",
              "</style>\n",
              "<ol class=list-inline><li>1</li><li>1</li><li>1</li><li>1</li><li>1</li><li>1</li><li>1</li><li>1</li><li>1</li><li>1</li><li>2</li><li>2</li><li>2</li><li>2</li><li>2</li><li>2</li><li>2</li><li>2</li><li>2</li><li>2</li></ol>\n",
              "\n",
              "<details>\n",
              "\t<summary style=display:list-item;cursor:pointer>\n",
              "\t\t<strong>Levels</strong>:\n",
              "\t</summary>\n",
              "\t<style>\n",
              "\t.list-inline {list-style: none; margin:0; padding: 0}\n",
              "\t.list-inline>li {display: inline-block}\n",
              "\t.list-inline>li:not(:last-child)::after {content: \"\\00b7\"; padding: 0 .5ex}\n",
              "\t</style>\n",
              "\t<ol class=list-inline><li>'1'</li><li>'2'</li></ol>\n",
              "</details>"
            ],
            "text/markdown": "1. 1\n2. 1\n3. 1\n4. 1\n5. 1\n6. 1\n7. 1\n8. 1\n9. 1\n10. 1\n11. 2\n12. 2\n13. 2\n14. 2\n15. 2\n16. 2\n17. 2\n18. 2\n19. 2\n20. 2\n\n\n\n**Levels**: 1. '1'\n2. '2'\n\n\n",
            "text/latex": "\\begin{enumerate*}\n\\item 1\n\\item 1\n\\item 1\n\\item 1\n\\item 1\n\\item 1\n\\item 1\n\\item 1\n\\item 1\n\\item 1\n\\item 2\n\\item 2\n\\item 2\n\\item 2\n\\item 2\n\\item 2\n\\item 2\n\\item 2\n\\item 2\n\\item 2\n\\end{enumerate*}\n\n\\emph{Levels}: \\begin{enumerate*}\n\\item '1'\n\\item '2'\n\\end{enumerate*}\n",
            "text/plain": [
              " [1] 1 1 1 1 1 1 1 1 1 1 2 2 2 2 2 2 2 2 2 2\n",
              "Levels: 1 2"
            ]
          },
          "metadata": {}
        }
      ]
    },
    {
      "cell_type": "code",
      "source": [
        "sort(sleep$extra)"
      ],
      "metadata": {
        "colab": {
          "base_uri": "https://localhost:8080/",
          "height": 34
        },
        "id": "HfOrXvc1lN_a",
        "outputId": "b8e32f33-46c7-4498-9cbf-9d62323ff509"
      },
      "execution_count": null,
      "outputs": [
        {
          "output_type": "display_data",
          "data": {
            "text/html": [
              "<style>\n",
              ".list-inline {list-style: none; margin:0; padding: 0}\n",
              ".list-inline>li {display: inline-block}\n",
              ".list-inline>li:not(:last-child)::after {content: \"\\00b7\"; padding: 0 .5ex}\n",
              "</style>\n",
              "<ol class=list-inline><li>-1.6</li><li>-1.2</li><li>-0.2</li><li>-0.1</li><li>-0.1</li><li>0</li><li>0.1</li><li>0.7</li><li>0.8</li><li>0.8</li><li>1.1</li><li>1.6</li><li>1.9</li><li>2</li><li>3.4</li><li>3.4</li><li>3.7</li><li>4.4</li><li>4.6</li><li>5.5</li></ol>\n"
            ],
            "text/markdown": "1. -1.6\n2. -1.2\n3. -0.2\n4. -0.1\n5. -0.1\n6. 0\n7. 0.1\n8. 0.7\n9. 0.8\n10. 0.8\n11. 1.1\n12. 1.6\n13. 1.9\n14. 2\n15. 3.4\n16. 3.4\n17. 3.7\n18. 4.4\n19. 4.6\n20. 5.5\n\n\n",
            "text/latex": "\\begin{enumerate*}\n\\item -1.6\n\\item -1.2\n\\item -0.2\n\\item -0.1\n\\item -0.1\n\\item 0\n\\item 0.1\n\\item 0.7\n\\item 0.8\n\\item 0.8\n\\item 1.1\n\\item 1.6\n\\item 1.9\n\\item 2\n\\item 3.4\n\\item 3.4\n\\item 3.7\n\\item 4.4\n\\item 4.6\n\\item 5.5\n\\end{enumerate*}\n",
            "text/plain": [
              " [1] -1.6 -1.2 -0.2 -0.1 -0.1  0.0  0.1  0.7  0.8  0.8  1.1  1.6  1.9  2.0  3.4\n",
              "[16]  3.4  3.7  4.4  4.6  5.5"
            ]
          },
          "metadata": {}
        }
      ]
    },
    {
      "cell_type": "code",
      "source": [
        "arrange(sleep, extra)\n",
        "#The arrange() function is used to reorder the rows of a dataset based on one or more variables. \n",
        "#In this case, it is arranging the rows of the \"sleep\" dataset in ascending order based on the values \n",
        "#of the \"extra\" variable."
      ],
      "metadata": {
        "colab": {
          "base_uri": "https://localhost:8080/",
          "height": 725
        },
        "id": "kY8Bd1tylOD8",
        "outputId": "152fbe29-2ea8-411c-dcad-f801300b98de"
      },
      "execution_count": null,
      "outputs": [
        {
          "output_type": "display_data",
          "data": {
            "text/html": [
              "<table class=\"dataframe\">\n",
              "<caption>A data.frame: 20 × 3</caption>\n",
              "<thead>\n",
              "\t<tr><th scope=col>extra</th><th scope=col>group</th><th scope=col>ID</th></tr>\n",
              "\t<tr><th scope=col>&lt;dbl&gt;</th><th scope=col>&lt;fct&gt;</th><th scope=col>&lt;fct&gt;</th></tr>\n",
              "</thead>\n",
              "<tbody>\n",
              "\t<tr><td>-1.6</td><td>1</td><td>2 </td></tr>\n",
              "\t<tr><td>-1.2</td><td>1</td><td>4 </td></tr>\n",
              "\t<tr><td>-0.2</td><td>1</td><td>3 </td></tr>\n",
              "\t<tr><td>-0.1</td><td>1</td><td>5 </td></tr>\n",
              "\t<tr><td>-0.1</td><td>2</td><td>5 </td></tr>\n",
              "\t<tr><td> 0.0</td><td>1</td><td>9 </td></tr>\n",
              "\t<tr><td> 0.1</td><td>2</td><td>4 </td></tr>\n",
              "\t<tr><td> 0.7</td><td>1</td><td>1 </td></tr>\n",
              "\t<tr><td> 0.8</td><td>1</td><td>8 </td></tr>\n",
              "\t<tr><td> 0.8</td><td>2</td><td>2 </td></tr>\n",
              "\t<tr><td> 1.1</td><td>2</td><td>3 </td></tr>\n",
              "\t<tr><td> 1.6</td><td>2</td><td>8 </td></tr>\n",
              "\t<tr><td> 1.9</td><td>2</td><td>1 </td></tr>\n",
              "\t<tr><td> 2.0</td><td>1</td><td>10</td></tr>\n",
              "\t<tr><td> 3.4</td><td>1</td><td>6 </td></tr>\n",
              "\t<tr><td> 3.4</td><td>2</td><td>10</td></tr>\n",
              "\t<tr><td> 3.7</td><td>1</td><td>7 </td></tr>\n",
              "\t<tr><td> 4.4</td><td>2</td><td>6 </td></tr>\n",
              "\t<tr><td> 4.6</td><td>2</td><td>9 </td></tr>\n",
              "\t<tr><td> 5.5</td><td>2</td><td>7 </td></tr>\n",
              "</tbody>\n",
              "</table>\n"
            ],
            "text/markdown": "\nA data.frame: 20 × 3\n\n| extra &lt;dbl&gt; | group &lt;fct&gt; | ID &lt;fct&gt; |\n|---|---|---|\n| -1.6 | 1 | 2  |\n| -1.2 | 1 | 4  |\n| -0.2 | 1 | 3  |\n| -0.1 | 1 | 5  |\n| -0.1 | 2 | 5  |\n|  0.0 | 1 | 9  |\n|  0.1 | 2 | 4  |\n|  0.7 | 1 | 1  |\n|  0.8 | 1 | 8  |\n|  0.8 | 2 | 2  |\n|  1.1 | 2 | 3  |\n|  1.6 | 2 | 8  |\n|  1.9 | 2 | 1  |\n|  2.0 | 1 | 10 |\n|  3.4 | 1 | 6  |\n|  3.4 | 2 | 10 |\n|  3.7 | 1 | 7  |\n|  4.4 | 2 | 6  |\n|  4.6 | 2 | 9  |\n|  5.5 | 2 | 7  |\n\n",
            "text/latex": "A data.frame: 20 × 3\n\\begin{tabular}{lll}\n extra & group & ID\\\\\n <dbl> & <fct> & <fct>\\\\\n\\hline\n\t -1.6 & 1 & 2 \\\\\n\t -1.2 & 1 & 4 \\\\\n\t -0.2 & 1 & 3 \\\\\n\t -0.1 & 1 & 5 \\\\\n\t -0.1 & 2 & 5 \\\\\n\t  0.0 & 1 & 9 \\\\\n\t  0.1 & 2 & 4 \\\\\n\t  0.7 & 1 & 1 \\\\\n\t  0.8 & 1 & 8 \\\\\n\t  0.8 & 2 & 2 \\\\\n\t  1.1 & 2 & 3 \\\\\n\t  1.6 & 2 & 8 \\\\\n\t  1.9 & 2 & 1 \\\\\n\t  2.0 & 1 & 10\\\\\n\t  3.4 & 1 & 6 \\\\\n\t  3.4 & 2 & 10\\\\\n\t  3.7 & 1 & 7 \\\\\n\t  4.4 & 2 & 6 \\\\\n\t  4.6 & 2 & 9 \\\\\n\t  5.5 & 2 & 7 \\\\\n\\end{tabular}\n",
            "text/plain": [
              "   extra group ID\n",
              "1  -1.6  1     2 \n",
              "2  -1.2  1     4 \n",
              "3  -0.2  1     3 \n",
              "4  -0.1  1     5 \n",
              "5  -0.1  2     5 \n",
              "6   0.0  1     9 \n",
              "7   0.1  2     4 \n",
              "8   0.7  1     1 \n",
              "9   0.8  1     8 \n",
              "10  0.8  2     2 \n",
              "11  1.1  2     3 \n",
              "12  1.6  2     8 \n",
              "13  1.9  2     1 \n",
              "14  2.0  1     10\n",
              "15  3.4  1     6 \n",
              "16  3.4  2     10\n",
              "17  3.7  1     7 \n",
              "18  4.4  2     6 \n",
              "19  4.6  2     9 \n",
              "20  5.5  2     7 "
            ]
          },
          "metadata": {}
        }
      ]
    },
    {
      "cell_type": "code",
      "source": [
        "arrange(sleep, extra)\n",
        "arrange(sleep, group)"
      ],
      "metadata": {
        "colab": {
          "base_uri": "https://localhost:8080/",
          "height": 1000
        },
        "id": "F6RjOKPflOhF",
        "outputId": "2eaa8479-90d8-4b03-ad7d-1ea44b734489"
      },
      "execution_count": null,
      "outputs": [
        {
          "output_type": "display_data",
          "data": {
            "text/html": [
              "<table class=\"dataframe\">\n",
              "<caption>A data.frame: 20 × 3</caption>\n",
              "<thead>\n",
              "\t<tr><th scope=col>extra</th><th scope=col>group</th><th scope=col>ID</th></tr>\n",
              "\t<tr><th scope=col>&lt;dbl&gt;</th><th scope=col>&lt;fct&gt;</th><th scope=col>&lt;fct&gt;</th></tr>\n",
              "</thead>\n",
              "<tbody>\n",
              "\t<tr><td>-1.6</td><td>1</td><td>2 </td></tr>\n",
              "\t<tr><td>-1.2</td><td>1</td><td>4 </td></tr>\n",
              "\t<tr><td>-0.2</td><td>1</td><td>3 </td></tr>\n",
              "\t<tr><td>-0.1</td><td>1</td><td>5 </td></tr>\n",
              "\t<tr><td>-0.1</td><td>2</td><td>5 </td></tr>\n",
              "\t<tr><td> 0.0</td><td>1</td><td>9 </td></tr>\n",
              "\t<tr><td> 0.1</td><td>2</td><td>4 </td></tr>\n",
              "\t<tr><td> 0.7</td><td>1</td><td>1 </td></tr>\n",
              "\t<tr><td> 0.8</td><td>1</td><td>8 </td></tr>\n",
              "\t<tr><td> 0.8</td><td>2</td><td>2 </td></tr>\n",
              "\t<tr><td> 1.1</td><td>2</td><td>3 </td></tr>\n",
              "\t<tr><td> 1.6</td><td>2</td><td>8 </td></tr>\n",
              "\t<tr><td> 1.9</td><td>2</td><td>1 </td></tr>\n",
              "\t<tr><td> 2.0</td><td>1</td><td>10</td></tr>\n",
              "\t<tr><td> 3.4</td><td>1</td><td>6 </td></tr>\n",
              "\t<tr><td> 3.4</td><td>2</td><td>10</td></tr>\n",
              "\t<tr><td> 3.7</td><td>1</td><td>7 </td></tr>\n",
              "\t<tr><td> 4.4</td><td>2</td><td>6 </td></tr>\n",
              "\t<tr><td> 4.6</td><td>2</td><td>9 </td></tr>\n",
              "\t<tr><td> 5.5</td><td>2</td><td>7 </td></tr>\n",
              "</tbody>\n",
              "</table>\n"
            ],
            "text/markdown": "\nA data.frame: 20 × 3\n\n| extra &lt;dbl&gt; | group &lt;fct&gt; | ID &lt;fct&gt; |\n|---|---|---|\n| -1.6 | 1 | 2  |\n| -1.2 | 1 | 4  |\n| -0.2 | 1 | 3  |\n| -0.1 | 1 | 5  |\n| -0.1 | 2 | 5  |\n|  0.0 | 1 | 9  |\n|  0.1 | 2 | 4  |\n|  0.7 | 1 | 1  |\n|  0.8 | 1 | 8  |\n|  0.8 | 2 | 2  |\n|  1.1 | 2 | 3  |\n|  1.6 | 2 | 8  |\n|  1.9 | 2 | 1  |\n|  2.0 | 1 | 10 |\n|  3.4 | 1 | 6  |\n|  3.4 | 2 | 10 |\n|  3.7 | 1 | 7  |\n|  4.4 | 2 | 6  |\n|  4.6 | 2 | 9  |\n|  5.5 | 2 | 7  |\n\n",
            "text/latex": "A data.frame: 20 × 3\n\\begin{tabular}{lll}\n extra & group & ID\\\\\n <dbl> & <fct> & <fct>\\\\\n\\hline\n\t -1.6 & 1 & 2 \\\\\n\t -1.2 & 1 & 4 \\\\\n\t -0.2 & 1 & 3 \\\\\n\t -0.1 & 1 & 5 \\\\\n\t -0.1 & 2 & 5 \\\\\n\t  0.0 & 1 & 9 \\\\\n\t  0.1 & 2 & 4 \\\\\n\t  0.7 & 1 & 1 \\\\\n\t  0.8 & 1 & 8 \\\\\n\t  0.8 & 2 & 2 \\\\\n\t  1.1 & 2 & 3 \\\\\n\t  1.6 & 2 & 8 \\\\\n\t  1.9 & 2 & 1 \\\\\n\t  2.0 & 1 & 10\\\\\n\t  3.4 & 1 & 6 \\\\\n\t  3.4 & 2 & 10\\\\\n\t  3.7 & 1 & 7 \\\\\n\t  4.4 & 2 & 6 \\\\\n\t  4.6 & 2 & 9 \\\\\n\t  5.5 & 2 & 7 \\\\\n\\end{tabular}\n",
            "text/plain": [
              "   extra group ID\n",
              "1  -1.6  1     2 \n",
              "2  -1.2  1     4 \n",
              "3  -0.2  1     3 \n",
              "4  -0.1  1     5 \n",
              "5  -0.1  2     5 \n",
              "6   0.0  1     9 \n",
              "7   0.1  2     4 \n",
              "8   0.7  1     1 \n",
              "9   0.8  1     8 \n",
              "10  0.8  2     2 \n",
              "11  1.1  2     3 \n",
              "12  1.6  2     8 \n",
              "13  1.9  2     1 \n",
              "14  2.0  1     10\n",
              "15  3.4  1     6 \n",
              "16  3.4  2     10\n",
              "17  3.7  1     7 \n",
              "18  4.4  2     6 \n",
              "19  4.6  2     9 \n",
              "20  5.5  2     7 "
            ]
          },
          "metadata": {}
        },
        {
          "output_type": "display_data",
          "data": {
            "text/html": [
              "<table class=\"dataframe\">\n",
              "<caption>A data.frame: 20 × 3</caption>\n",
              "<thead>\n",
              "\t<tr><th scope=col>extra</th><th scope=col>group</th><th scope=col>ID</th></tr>\n",
              "\t<tr><th scope=col>&lt;dbl&gt;</th><th scope=col>&lt;fct&gt;</th><th scope=col>&lt;fct&gt;</th></tr>\n",
              "</thead>\n",
              "<tbody>\n",
              "\t<tr><td> 0.7</td><td>1</td><td>1 </td></tr>\n",
              "\t<tr><td>-1.6</td><td>1</td><td>2 </td></tr>\n",
              "\t<tr><td>-0.2</td><td>1</td><td>3 </td></tr>\n",
              "\t<tr><td>-1.2</td><td>1</td><td>4 </td></tr>\n",
              "\t<tr><td>-0.1</td><td>1</td><td>5 </td></tr>\n",
              "\t<tr><td> 3.4</td><td>1</td><td>6 </td></tr>\n",
              "\t<tr><td> 3.7</td><td>1</td><td>7 </td></tr>\n",
              "\t<tr><td> 0.8</td><td>1</td><td>8 </td></tr>\n",
              "\t<tr><td> 0.0</td><td>1</td><td>9 </td></tr>\n",
              "\t<tr><td> 2.0</td><td>1</td><td>10</td></tr>\n",
              "\t<tr><td> 1.9</td><td>2</td><td>1 </td></tr>\n",
              "\t<tr><td> 0.8</td><td>2</td><td>2 </td></tr>\n",
              "\t<tr><td> 1.1</td><td>2</td><td>3 </td></tr>\n",
              "\t<tr><td> 0.1</td><td>2</td><td>4 </td></tr>\n",
              "\t<tr><td>-0.1</td><td>2</td><td>5 </td></tr>\n",
              "\t<tr><td> 4.4</td><td>2</td><td>6 </td></tr>\n",
              "\t<tr><td> 5.5</td><td>2</td><td>7 </td></tr>\n",
              "\t<tr><td> 1.6</td><td>2</td><td>8 </td></tr>\n",
              "\t<tr><td> 4.6</td><td>2</td><td>9 </td></tr>\n",
              "\t<tr><td> 3.4</td><td>2</td><td>10</td></tr>\n",
              "</tbody>\n",
              "</table>\n"
            ],
            "text/markdown": "\nA data.frame: 20 × 3\n\n| extra &lt;dbl&gt; | group &lt;fct&gt; | ID &lt;fct&gt; |\n|---|---|---|\n|  0.7 | 1 | 1  |\n| -1.6 | 1 | 2  |\n| -0.2 | 1 | 3  |\n| -1.2 | 1 | 4  |\n| -0.1 | 1 | 5  |\n|  3.4 | 1 | 6  |\n|  3.7 | 1 | 7  |\n|  0.8 | 1 | 8  |\n|  0.0 | 1 | 9  |\n|  2.0 | 1 | 10 |\n|  1.9 | 2 | 1  |\n|  0.8 | 2 | 2  |\n|  1.1 | 2 | 3  |\n|  0.1 | 2 | 4  |\n| -0.1 | 2 | 5  |\n|  4.4 | 2 | 6  |\n|  5.5 | 2 | 7  |\n|  1.6 | 2 | 8  |\n|  4.6 | 2 | 9  |\n|  3.4 | 2 | 10 |\n\n",
            "text/latex": "A data.frame: 20 × 3\n\\begin{tabular}{lll}\n extra & group & ID\\\\\n <dbl> & <fct> & <fct>\\\\\n\\hline\n\t  0.7 & 1 & 1 \\\\\n\t -1.6 & 1 & 2 \\\\\n\t -0.2 & 1 & 3 \\\\\n\t -1.2 & 1 & 4 \\\\\n\t -0.1 & 1 & 5 \\\\\n\t  3.4 & 1 & 6 \\\\\n\t  3.7 & 1 & 7 \\\\\n\t  0.8 & 1 & 8 \\\\\n\t  0.0 & 1 & 9 \\\\\n\t  2.0 & 1 & 10\\\\\n\t  1.9 & 2 & 1 \\\\\n\t  0.8 & 2 & 2 \\\\\n\t  1.1 & 2 & 3 \\\\\n\t  0.1 & 2 & 4 \\\\\n\t -0.1 & 2 & 5 \\\\\n\t  4.4 & 2 & 6 \\\\\n\t  5.5 & 2 & 7 \\\\\n\t  1.6 & 2 & 8 \\\\\n\t  4.6 & 2 & 9 \\\\\n\t  3.4 & 2 & 10\\\\\n\\end{tabular}\n",
            "text/plain": [
              "   extra group ID\n",
              "1   0.7  1     1 \n",
              "2  -1.6  1     2 \n",
              "3  -0.2  1     3 \n",
              "4  -1.2  1     4 \n",
              "5  -0.1  1     5 \n",
              "6   3.4  1     6 \n",
              "7   3.7  1     7 \n",
              "8   0.8  1     8 \n",
              "9   0.0  1     9 \n",
              "10  2.0  1     10\n",
              "11  1.9  2     1 \n",
              "12  0.8  2     2 \n",
              "13  1.1  2     3 \n",
              "14  0.1  2     4 \n",
              "15 -0.1  2     5 \n",
              "16  4.4  2     6 \n",
              "17  5.5  2     7 \n",
              "18  1.6  2     8 \n",
              "19  4.6  2     9 \n",
              "20  3.4  2     10"
            ]
          },
          "metadata": {}
        }
      ]
    },
    {
      "cell_type": "code",
      "source": [
        "s<-sleep%>%arrange(desc(extra))\n",
        "s\n",
        "#This line of code creates a new dataset called \"i\" that is a copy of the \"sleep\" dataset, \n",
        "#but with the rows arranged in descending order based on the values of the \"extra\" variable \n",
        "#using the arrange() function in the dplyr package in R."
      ],
      "metadata": {
        "colab": {
          "base_uri": "https://localhost:8080/",
          "height": 725
        },
        "id": "qw31SV98lOk8",
        "outputId": "f8c83d58-1a0d-4fae-f7f1-bcb70fb26397"
      },
      "execution_count": null,
      "outputs": [
        {
          "output_type": "display_data",
          "data": {
            "text/html": [
              "<table class=\"dataframe\">\n",
              "<caption>A data.frame: 20 × 3</caption>\n",
              "<thead>\n",
              "\t<tr><th scope=col>extra</th><th scope=col>group</th><th scope=col>ID</th></tr>\n",
              "\t<tr><th scope=col>&lt;dbl&gt;</th><th scope=col>&lt;fct&gt;</th><th scope=col>&lt;fct&gt;</th></tr>\n",
              "</thead>\n",
              "<tbody>\n",
              "\t<tr><td> 5.5</td><td>2</td><td>7 </td></tr>\n",
              "\t<tr><td> 4.6</td><td>2</td><td>9 </td></tr>\n",
              "\t<tr><td> 4.4</td><td>2</td><td>6 </td></tr>\n",
              "\t<tr><td> 3.7</td><td>1</td><td>7 </td></tr>\n",
              "\t<tr><td> 3.4</td><td>1</td><td>6 </td></tr>\n",
              "\t<tr><td> 3.4</td><td>2</td><td>10</td></tr>\n",
              "\t<tr><td> 2.0</td><td>1</td><td>10</td></tr>\n",
              "\t<tr><td> 1.9</td><td>2</td><td>1 </td></tr>\n",
              "\t<tr><td> 1.6</td><td>2</td><td>8 </td></tr>\n",
              "\t<tr><td> 1.1</td><td>2</td><td>3 </td></tr>\n",
              "\t<tr><td> 0.8</td><td>1</td><td>8 </td></tr>\n",
              "\t<tr><td> 0.8</td><td>2</td><td>2 </td></tr>\n",
              "\t<tr><td> 0.7</td><td>1</td><td>1 </td></tr>\n",
              "\t<tr><td> 0.1</td><td>2</td><td>4 </td></tr>\n",
              "\t<tr><td> 0.0</td><td>1</td><td>9 </td></tr>\n",
              "\t<tr><td>-0.1</td><td>1</td><td>5 </td></tr>\n",
              "\t<tr><td>-0.1</td><td>2</td><td>5 </td></tr>\n",
              "\t<tr><td>-0.2</td><td>1</td><td>3 </td></tr>\n",
              "\t<tr><td>-1.2</td><td>1</td><td>4 </td></tr>\n",
              "\t<tr><td>-1.6</td><td>1</td><td>2 </td></tr>\n",
              "</tbody>\n",
              "</table>\n"
            ],
            "text/markdown": "\nA data.frame: 20 × 3\n\n| extra &lt;dbl&gt; | group &lt;fct&gt; | ID &lt;fct&gt; |\n|---|---|---|\n|  5.5 | 2 | 7  |\n|  4.6 | 2 | 9  |\n|  4.4 | 2 | 6  |\n|  3.7 | 1 | 7  |\n|  3.4 | 1 | 6  |\n|  3.4 | 2 | 10 |\n|  2.0 | 1 | 10 |\n|  1.9 | 2 | 1  |\n|  1.6 | 2 | 8  |\n|  1.1 | 2 | 3  |\n|  0.8 | 1 | 8  |\n|  0.8 | 2 | 2  |\n|  0.7 | 1 | 1  |\n|  0.1 | 2 | 4  |\n|  0.0 | 1 | 9  |\n| -0.1 | 1 | 5  |\n| -0.1 | 2 | 5  |\n| -0.2 | 1 | 3  |\n| -1.2 | 1 | 4  |\n| -1.6 | 1 | 2  |\n\n",
            "text/latex": "A data.frame: 20 × 3\n\\begin{tabular}{lll}\n extra & group & ID\\\\\n <dbl> & <fct> & <fct>\\\\\n\\hline\n\t  5.5 & 2 & 7 \\\\\n\t  4.6 & 2 & 9 \\\\\n\t  4.4 & 2 & 6 \\\\\n\t  3.7 & 1 & 7 \\\\\n\t  3.4 & 1 & 6 \\\\\n\t  3.4 & 2 & 10\\\\\n\t  2.0 & 1 & 10\\\\\n\t  1.9 & 2 & 1 \\\\\n\t  1.6 & 2 & 8 \\\\\n\t  1.1 & 2 & 3 \\\\\n\t  0.8 & 1 & 8 \\\\\n\t  0.8 & 2 & 2 \\\\\n\t  0.7 & 1 & 1 \\\\\n\t  0.1 & 2 & 4 \\\\\n\t  0.0 & 1 & 9 \\\\\n\t -0.1 & 1 & 5 \\\\\n\t -0.1 & 2 & 5 \\\\\n\t -0.2 & 1 & 3 \\\\\n\t -1.2 & 1 & 4 \\\\\n\t -1.6 & 1 & 2 \\\\\n\\end{tabular}\n",
            "text/plain": [
              "   extra group ID\n",
              "1   5.5  2     7 \n",
              "2   4.6  2     9 \n",
              "3   4.4  2     6 \n",
              "4   3.7  1     7 \n",
              "5   3.4  1     6 \n",
              "6   3.4  2     10\n",
              "7   2.0  1     10\n",
              "8   1.9  2     1 \n",
              "9   1.6  2     8 \n",
              "10  1.1  2     3 \n",
              "11  0.8  1     8 \n",
              "12  0.8  2     2 \n",
              "13  0.7  1     1 \n",
              "14  0.1  2     4 \n",
              "15  0.0  1     9 \n",
              "16 -0.1  1     5 \n",
              "17 -0.1  2     5 \n",
              "18 -0.2  1     3 \n",
              "19 -1.2  1     4 \n",
              "20 -1.6  1     2 "
            ]
          },
          "metadata": {}
        }
      ]
    },
    {
      "cell_type": "code",
      "source": [
        "plot(sleep[, 1:3])\n",
        "#This line of code creates a scatter plot matrix of the \"sleep\" dataset in R, \n",
        "#using the plot() function."
      ],
      "metadata": {
        "colab": {
          "base_uri": "https://localhost:8080/",
          "height": 197
        },
        "id": "61i-3AnelPGm",
        "outputId": "fa545c36-82f1-41a0-fe6b-1459b9358e9e"
      },
      "execution_count": null,
      "outputs": [
        {
          "output_type": "display_data",
          "data": {
            "text/plain": [
              "plot without title"
            ],
            "image/png": "[encoded data removed]"
          },
          "metadata": {
            "image/png": {
              "width": 180,
              "height": 180
            }
          }
        }
      ]
    },
    {
      "cell_type": "code",
      "source": [
        "boxplot(sleep[, 1:3], col = sleep$ID, main = \"Boxplot of sleep Variables by ID\")\n",
        "#This line of code creates a box plot for each of the four numerical variables in the \"sleep\" dataset \n",
        "#in R, using the boxplot() function. The box plots are colored by the species of sleep using the \n",
        "#\"col\" argument and the main title of the plot is set using the \"main\" argument."
      ],
      "metadata": {
        "colab": {
          "base_uri": "https://localhost:8080/",
          "height": 197
        },
        "id": "2Zh2i-qNlPLF",
        "outputId": "16668d4b-45d7-45bb-b9df-f291b45b3b42"
      },
      "execution_count": null,
      "outputs": [
        {
          "output_type": "display_data",
          "data": {
            "text/plain": [
              "Plot with title “Boxplot of sleep Variables by ID”"
            ],
            "image/png": "[encoded data removed]"
          },
          "metadata": {
            "image/png": {
              "width": 180,
              "height": 180
            }
          }
        }
      ]
    },
    {
      "cell_type": "code",
      "source": [
        "aggregate(sleep[, 1:3], by = list(group = sleep$group), FUN = mean)\n",
        "#This will calculate the mean of each feature for each species of sleep."
      ],
      "metadata": {
        "colab": {
          "base_uri": "https://localhost:8080/",
          "height": 308
        },
        "id": "3bIw2cdZlPQG",
        "outputId": "c0104fe3-d401-41a4-9a22-81ab98acd8b7"
      },
      "execution_count": null,
      "outputs": [
        {
          "output_type": "stream",
          "name": "stderr",
          "text": [
            "Warning message in mean.default(X[[i]], ...):\n",
            "“argument is not numeric or logical: returning NA”\n",
            "Warning message in mean.default(X[[i]], ...):\n",
            "“argument is not numeric or logical: returning NA”\n",
            "Warning message in mean.default(X[[i]], ...):\n",
            "“argument is not numeric or logical: returning NA”\n",
            "Warning message in mean.default(X[[i]], ...):\n",
            "“argument is not numeric or logical: returning NA”\n"
          ]
        },
        {
          "output_type": "display_data",
          "data": {
            "text/html": [
              "<table class=\"dataframe\">\n",
              "<caption>A data.frame: 2 × 4</caption>\n",
              "<thead>\n",
              "\t<tr><th scope=col>group</th><th scope=col>extra</th><th scope=col>group</th><th scope=col>ID</th></tr>\n",
              "\t<tr><th scope=col>&lt;fct&gt;</th><th scope=col>&lt;dbl&gt;</th><th scope=col>&lt;dbl&gt;</th><th scope=col>&lt;dbl&gt;</th></tr>\n",
              "</thead>\n",
              "<tbody>\n",
              "\t<tr><td>1</td><td>0.75</td><td>NA</td><td>NA</td></tr>\n",
              "\t<tr><td>2</td><td>2.33</td><td>NA</td><td>NA</td></tr>\n",
              "</tbody>\n",
              "</table>\n"
            ],
            "text/markdown": "\nA data.frame: 2 × 4\n\n| group &lt;fct&gt; | extra &lt;dbl&gt; | group &lt;dbl&gt; | ID &lt;dbl&gt; |\n|---|---|---|---|\n| 1 | 0.75 | NA | NA |\n| 2 | 2.33 | NA | NA |\n\n",
            "text/latex": "A data.frame: 2 × 4\n\\begin{tabular}{llll}\n group & extra & group & ID\\\\\n <fct> & <dbl> & <dbl> & <dbl>\\\\\n\\hline\n\t 1 & 0.75 & NA & NA\\\\\n\t 2 & 2.33 & NA & NA\\\\\n\\end{tabular}\n",
            "text/plain": [
              "  group extra group ID\n",
              "1 1     0.75  NA    NA\n",
              "2 2     2.33  NA    NA"
            ]
          },
          "metadata": {}
        }
      ]
    },
    {
      "cell_type": "code",
      "source": [
        "sample_n(df,4)"
      ],
      "metadata": {
        "colab": {
          "base_uri": "https://localhost:8080/",
          "height": 223
        },
        "id": "TgQ0x0Z9lPVG",
        "outputId": "732e0f9f-9a27-4c9c-871b-42ee303b2d38"
      },
      "execution_count": null,
      "outputs": [
        {
          "output_type": "display_data",
          "data": {
            "text/html": [
              "<table class=\"dataframe\">\n",
              "<caption>A data.frame: 4 × 4</caption>\n",
              "<thead>\n",
              "\t<tr><th scope=col>X</th><th scope=col>extra</th><th scope=col>group</th><th scope=col>ID</th></tr>\n",
              "\t<tr><th scope=col>&lt;int&gt;</th><th scope=col>&lt;dbl&gt;</th><th scope=col>&lt;int&gt;</th><th scope=col>&lt;int&gt;</th></tr>\n",
              "</thead>\n",
              "<tbody>\n",
              "\t<tr><td>12</td><td> 0.8</td><td>2</td><td>2</td></tr>\n",
              "\t<tr><td> 4</td><td>-1.2</td><td>1</td><td>4</td></tr>\n",
              "\t<tr><td> 9</td><td> 0.0</td><td>1</td><td>9</td></tr>\n",
              "\t<tr><td>19</td><td> 4.6</td><td>2</td><td>9</td></tr>\n",
              "</tbody>\n",
              "</table>\n"
            ],
            "text/markdown": "\nA data.frame: 4 × 4\n\n| X &lt;int&gt; | extra &lt;dbl&gt; | group &lt;int&gt; | ID &lt;int&gt; |\n|---|---|---|---|\n| 12 |  0.8 | 2 | 2 |\n|  4 | -1.2 | 1 | 4 |\n|  9 |  0.0 | 1 | 9 |\n| 19 |  4.6 | 2 | 9 |\n\n",
            "text/latex": "A data.frame: 4 × 4\n\\begin{tabular}{llll}\n X & extra & group & ID\\\\\n <int> & <dbl> & <int> & <int>\\\\\n\\hline\n\t 12 &  0.8 & 2 & 2\\\\\n\t  4 & -1.2 & 1 & 4\\\\\n\t  9 &  0.0 & 1 & 9\\\\\n\t 19 &  4.6 & 2 & 9\\\\\n\\end{tabular}\n",
            "text/plain": [
              "  X  extra group ID\n",
              "1 12  0.8  2     2 \n",
              "2  4 -1.2  1     4 \n",
              "3  9  0.0  1     9 \n",
              "4 19  4.6  2     9 "
            ]
          },
          "metadata": {}
        }
      ]
    },
    {
      "cell_type": "code",
      "source": [
        "structure(df)"
      ],
      "metadata": {
        "colab": {
          "base_uri": "https://localhost:8080/",
          "height": 725
        },
        "id": "zzCZJDx0j-Ch",
        "outputId": "abe7a1c8-c64d-41d7-f7d8-9fc02bbd1232"
      },
      "execution_count": null,
      "outputs": [
        {
          "output_type": "display_data",
          "data": {
            "text/html": [
              "<table class=\"dataframe\">\n",
              "<caption>A data.frame: 20 × 4</caption>\n",
              "<thead>\n",
              "\t<tr><th scope=col>X</th><th scope=col>extra</th><th scope=col>group</th><th scope=col>ID</th></tr>\n",
              "\t<tr><th scope=col>&lt;int&gt;</th><th scope=col>&lt;dbl&gt;</th><th scope=col>&lt;int&gt;</th><th scope=col>&lt;int&gt;</th></tr>\n",
              "</thead>\n",
              "<tbody>\n",
              "\t<tr><td> 1</td><td> 0.7</td><td>1</td><td> 1</td></tr>\n",
              "\t<tr><td> 2</td><td>-1.6</td><td>1</td><td> 2</td></tr>\n",
              "\t<tr><td> 3</td><td>-0.2</td><td>1</td><td> 3</td></tr>\n",
              "\t<tr><td> 4</td><td>-1.2</td><td>1</td><td> 4</td></tr>\n",
              "\t<tr><td> 5</td><td>-0.1</td><td>1</td><td> 5</td></tr>\n",
              "\t<tr><td> 6</td><td> 3.4</td><td>1</td><td> 6</td></tr>\n",
              "\t<tr><td> 7</td><td> 3.7</td><td>1</td><td> 7</td></tr>\n",
              "\t<tr><td> 8</td><td> 0.8</td><td>1</td><td> 8</td></tr>\n",
              "\t<tr><td> 9</td><td> 0.0</td><td>1</td><td> 9</td></tr>\n",
              "\t<tr><td>10</td><td> 2.0</td><td>1</td><td>10</td></tr>\n",
              "\t<tr><td>11</td><td> 1.9</td><td>2</td><td> 1</td></tr>\n",
              "\t<tr><td>12</td><td> 0.8</td><td>2</td><td> 2</td></tr>\n",
              "\t<tr><td>13</td><td> 1.1</td><td>2</td><td> 3</td></tr>\n",
              "\t<tr><td>14</td><td> 0.1</td><td>2</td><td> 4</td></tr>\n",
              "\t<tr><td>15</td><td>-0.1</td><td>2</td><td> 5</td></tr>\n",
              "\t<tr><td>16</td><td> 4.4</td><td>2</td><td> 6</td></tr>\n",
              "\t<tr><td>17</td><td> 5.5</td><td>2</td><td> 7</td></tr>\n",
              "\t<tr><td>18</td><td> 1.6</td><td>2</td><td> 8</td></tr>\n",
              "\t<tr><td>19</td><td> 4.6</td><td>2</td><td> 9</td></tr>\n",
              "\t<tr><td>20</td><td> 3.4</td><td>2</td><td>10</td></tr>\n",
              "</tbody>\n",
              "</table>\n"
            ],
            "text/markdown": "\nA data.frame: 20 × 4\n\n| X &lt;int&gt; | extra &lt;dbl&gt; | group &lt;int&gt; | ID &lt;int&gt; |\n|---|---|---|---|\n|  1 |  0.7 | 1 |  1 |\n|  2 | -1.6 | 1 |  2 |\n|  3 | -0.2 | 1 |  3 |\n|  4 | -1.2 | 1 |  4 |\n|  5 | -0.1 | 1 |  5 |\n|  6 |  3.4 | 1 |  6 |\n|  7 |  3.7 | 1 |  7 |\n|  8 |  0.8 | 1 |  8 |\n|  9 |  0.0 | 1 |  9 |\n| 10 |  2.0 | 1 | 10 |\n| 11 |  1.9 | 2 |  1 |\n| 12 |  0.8 | 2 |  2 |\n| 13 |  1.1 | 2 |  3 |\n| 14 |  0.1 | 2 |  4 |\n| 15 | -0.1 | 2 |  5 |\n| 16 |  4.4 | 2 |  6 |\n| 17 |  5.5 | 2 |  7 |\n| 18 |  1.6 | 2 |  8 |\n| 19 |  4.6 | 2 |  9 |\n| 20 |  3.4 | 2 | 10 |\n\n",
            "text/latex": "A data.frame: 20 × 4\n\\begin{tabular}{llll}\n X & extra & group & ID\\\\\n <int> & <dbl> & <int> & <int>\\\\\n\\hline\n\t  1 &  0.7 & 1 &  1\\\\\n\t  2 & -1.6 & 1 &  2\\\\\n\t  3 & -0.2 & 1 &  3\\\\\n\t  4 & -1.2 & 1 &  4\\\\\n\t  5 & -0.1 & 1 &  5\\\\\n\t  6 &  3.4 & 1 &  6\\\\\n\t  7 &  3.7 & 1 &  7\\\\\n\t  8 &  0.8 & 1 &  8\\\\\n\t  9 &  0.0 & 1 &  9\\\\\n\t 10 &  2.0 & 1 & 10\\\\\n\t 11 &  1.9 & 2 &  1\\\\\n\t 12 &  0.8 & 2 &  2\\\\\n\t 13 &  1.1 & 2 &  3\\\\\n\t 14 &  0.1 & 2 &  4\\\\\n\t 15 & -0.1 & 2 &  5\\\\\n\t 16 &  4.4 & 2 &  6\\\\\n\t 17 &  5.5 & 2 &  7\\\\\n\t 18 &  1.6 & 2 &  8\\\\\n\t 19 &  4.6 & 2 &  9\\\\\n\t 20 &  3.4 & 2 & 10\\\\\n\\end{tabular}\n",
            "text/plain": [
              "   X  extra group ID\n",
              "1   1  0.7  1      1\n",
              "2   2 -1.6  1      2\n",
              "3   3 -0.2  1      3\n",
              "4   4 -1.2  1      4\n",
              "5   5 -0.1  1      5\n",
              "6   6  3.4  1      6\n",
              "7   7  3.7  1      7\n",
              "8   8  0.8  1      8\n",
              "9   9  0.0  1      9\n",
              "10 10  2.0  1     10\n",
              "11 11  1.9  2      1\n",
              "12 12  0.8  2      2\n",
              "13 13  1.1  2      3\n",
              "14 14  0.1  2      4\n",
              "15 15 -0.1  2      5\n",
              "16 16  4.4  2      6\n",
              "17 17  5.5  2      7\n",
              "18 18  1.6  2      8\n",
              "19 19  4.6  2      9\n",
              "20 20  3.4  2     10"
            ]
          },
          "metadata": {}
        }
      ]
    },
    {
      "cell_type": "code",
      "source": [
        "sample_frac(df,0.2)"
      ],
      "metadata": {
        "colab": {
          "base_uri": "https://localhost:8080/",
          "height": 223
        },
        "id": "M587tD3Uj-F-",
        "outputId": "607452e0-22e4-4526-d55d-06bbeb99b09e"
      },
      "execution_count": null,
      "outputs": [
        {
          "output_type": "display_data",
          "data": {
            "text/html": [
              "<table class=\"dataframe\">\n",
              "<caption>A data.frame: 4 × 4</caption>\n",
              "<thead>\n",
              "\t<tr><th scope=col>X</th><th scope=col>extra</th><th scope=col>group</th><th scope=col>ID</th></tr>\n",
              "\t<tr><th scope=col>&lt;int&gt;</th><th scope=col>&lt;dbl&gt;</th><th scope=col>&lt;int&gt;</th><th scope=col>&lt;int&gt;</th></tr>\n",
              "</thead>\n",
              "<tbody>\n",
              "\t<tr><td> 8</td><td>0.8</td><td>1</td><td>8</td></tr>\n",
              "\t<tr><td> 6</td><td>3.4</td><td>1</td><td>6</td></tr>\n",
              "\t<tr><td>14</td><td>0.1</td><td>2</td><td>4</td></tr>\n",
              "\t<tr><td>19</td><td>4.6</td><td>2</td><td>9</td></tr>\n",
              "</tbody>\n",
              "</table>\n"
            ],
            "text/markdown": "\nA data.frame: 4 × 4\n\n| X &lt;int&gt; | extra &lt;dbl&gt; | group &lt;int&gt; | ID &lt;int&gt; |\n|---|---|---|---|\n|  8 | 0.8 | 1 | 8 |\n|  6 | 3.4 | 1 | 6 |\n| 14 | 0.1 | 2 | 4 |\n| 19 | 4.6 | 2 | 9 |\n\n",
            "text/latex": "A data.frame: 4 × 4\n\\begin{tabular}{llll}\n X & extra & group & ID\\\\\n <int> & <dbl> & <int> & <int>\\\\\n\\hline\n\t  8 & 0.8 & 1 & 8\\\\\n\t  6 & 3.4 & 1 & 6\\\\\n\t 14 & 0.1 & 2 & 4\\\\\n\t 19 & 4.6 & 2 & 9\\\\\n\\end{tabular}\n",
            "text/plain": [
              "  X  extra group ID\n",
              "1  8 0.8   1     8 \n",
              "2  6 3.4   1     6 \n",
              "3 14 0.1   2     4 \n",
              "4 19 4.6   2     9 "
            ]
          },
          "metadata": {}
        }
      ]
    },
    {
      "cell_type": "code",
      "source": [
        "select(df,extra:group)"
      ],
      "metadata": {
        "colab": {
          "base_uri": "https://localhost:8080/",
          "height": 742
        },
        "id": "bHm_nrKsxha8",
        "outputId": "78aa2196-e26b-42dc-a82f-a4cab24a34bd"
      },
      "execution_count": null,
      "outputs": [
        {
          "output_type": "display_data",
          "data": {
            "text/html": [
              "<table class=\"dataframe\">\n",
              "<caption>A data.frame: 20 × 2</caption>\n",
              "<thead>\n",
              "\t<tr><th scope=col>extra</th><th scope=col>group</th></tr>\n",
              "\t<tr><th scope=col>&lt;dbl&gt;</th><th scope=col>&lt;int&gt;</th></tr>\n",
              "</thead>\n",
              "<tbody>\n",
              "\t<tr><td> 0.7</td><td>1</td></tr>\n",
              "\t<tr><td>-1.6</td><td>1</td></tr>\n",
              "\t<tr><td>-0.2</td><td>1</td></tr>\n",
              "\t<tr><td>-1.2</td><td>1</td></tr>\n",
              "\t<tr><td>-0.1</td><td>1</td></tr>\n",
              "\t<tr><td> 3.4</td><td>1</td></tr>\n",
              "\t<tr><td> 3.7</td><td>1</td></tr>\n",
              "\t<tr><td> 0.8</td><td>1</td></tr>\n",
              "\t<tr><td> 0.0</td><td>1</td></tr>\n",
              "\t<tr><td> 2.0</td><td>1</td></tr>\n",
              "\t<tr><td> 1.9</td><td>2</td></tr>\n",
              "\t<tr><td> 0.8</td><td>2</td></tr>\n",
              "\t<tr><td> 1.1</td><td>2</td></tr>\n",
              "\t<tr><td> 0.1</td><td>2</td></tr>\n",
              "\t<tr><td>-0.1</td><td>2</td></tr>\n",
              "\t<tr><td> 4.4</td><td>2</td></tr>\n",
              "\t<tr><td> 5.5</td><td>2</td></tr>\n",
              "\t<tr><td> 1.6</td><td>2</td></tr>\n",
              "\t<tr><td> 4.6</td><td>2</td></tr>\n",
              "\t<tr><td> 3.4</td><td>2</td></tr>\n",
              "</tbody>\n",
              "</table>\n"
            ],
            "text/markdown": "\nA data.frame: 20 × 2\n\n| extra &lt;dbl&gt; | group &lt;int&gt; |\n|---|---|\n|  0.7 | 1 |\n| -1.6 | 1 |\n| -0.2 | 1 |\n| -1.2 | 1 |\n| -0.1 | 1 |\n|  3.4 | 1 |\n|  3.7 | 1 |\n|  0.8 | 1 |\n|  0.0 | 1 |\n|  2.0 | 1 |\n|  1.9 | 2 |\n|  0.8 | 2 |\n|  1.1 | 2 |\n|  0.1 | 2 |\n| -0.1 | 2 |\n|  4.4 | 2 |\n|  5.5 | 2 |\n|  1.6 | 2 |\n|  4.6 | 2 |\n|  3.4 | 2 |\n\n",
            "text/latex": "A data.frame: 20 × 2\n\\begin{tabular}{ll}\n extra & group\\\\\n <dbl> & <int>\\\\\n\\hline\n\t  0.7 & 1\\\\\n\t -1.6 & 1\\\\\n\t -0.2 & 1\\\\\n\t -1.2 & 1\\\\\n\t -0.1 & 1\\\\\n\t  3.4 & 1\\\\\n\t  3.7 & 1\\\\\n\t  0.8 & 1\\\\\n\t  0.0 & 1\\\\\n\t  2.0 & 1\\\\\n\t  1.9 & 2\\\\\n\t  0.8 & 2\\\\\n\t  1.1 & 2\\\\\n\t  0.1 & 2\\\\\n\t -0.1 & 2\\\\\n\t  4.4 & 2\\\\\n\t  5.5 & 2\\\\\n\t  1.6 & 2\\\\\n\t  4.6 & 2\\\\\n\t  3.4 & 2\\\\\n\\end{tabular}\n",
            "text/plain": [
              "   extra group\n",
              "1   0.7  1    \n",
              "2  -1.6  1    \n",
              "3  -0.2  1    \n",
              "4  -1.2  1    \n",
              "5  -0.1  1    \n",
              "6   3.4  1    \n",
              "7   3.7  1    \n",
              "8   0.8  1    \n",
              "9   0.0  1    \n",
              "10  2.0  1    \n",
              "11  1.9  2    \n",
              "12  0.8  2    \n",
              "13  1.1  2    \n",
              "14  0.1  2    \n",
              "15 -0.1  2    \n",
              "16  4.4  2    \n",
              "17  5.5  2    \n",
              "18  1.6  2    \n",
              "19  4.6  2    \n",
              "20  3.4  2    "
            ]
          },
          "metadata": {}
        }
      ]
    },
    {
      "cell_type": "code",
      "source": [
        "#Data Visualization"
      ],
      "metadata": {
        "id": "hbQT1wh7xhep"
      },
      "execution_count": null,
      "outputs": []
    },
    {
      "cell_type": "code",
      "source": [
        "data()"
      ],
      "metadata": {
        "id": "KLUb4_g-xhi6"
      },
      "execution_count": null,
      "outputs": []
    },
    {
      "cell_type": "code",
      "source": [
        "data(sleep)"
      ],
      "metadata": {
        "id": "EdpVhJjKxhm-"
      },
      "execution_count": null,
      "outputs": []
    },
    {
      "cell_type": "code",
      "source": [
        "sleep"
      ],
      "metadata": {
        "colab": {
          "base_uri": "https://localhost:8080/",
          "height": 725
        },
        "id": "dLEfe53Gxhxg",
        "outputId": "4e3c58b4-aa05-4449-c168-472a013f701e"
      },
      "execution_count": null,
      "outputs": [
        {
          "output_type": "display_data",
          "data": {
            "text/html": [
              "<table class=\"dataframe\">\n",
              "<caption>A data.frame: 20 × 3</caption>\n",
              "<thead>\n",
              "\t<tr><th scope=col>extra</th><th scope=col>group</th><th scope=col>ID</th></tr>\n",
              "\t<tr><th scope=col>&lt;dbl&gt;</th><th scope=col>&lt;fct&gt;</th><th scope=col>&lt;fct&gt;</th></tr>\n",
              "</thead>\n",
              "<tbody>\n",
              "\t<tr><td> 0.7</td><td>1</td><td>1 </td></tr>\n",
              "\t<tr><td>-1.6</td><td>1</td><td>2 </td></tr>\n",
              "\t<tr><td>-0.2</td><td>1</td><td>3 </td></tr>\n",
              "\t<tr><td>-1.2</td><td>1</td><td>4 </td></tr>\n",
              "\t<tr><td>-0.1</td><td>1</td><td>5 </td></tr>\n",
              "\t<tr><td> 3.4</td><td>1</td><td>6 </td></tr>\n",
              "\t<tr><td> 3.7</td><td>1</td><td>7 </td></tr>\n",
              "\t<tr><td> 0.8</td><td>1</td><td>8 </td></tr>\n",
              "\t<tr><td> 0.0</td><td>1</td><td>9 </td></tr>\n",
              "\t<tr><td> 2.0</td><td>1</td><td>10</td></tr>\n",
              "\t<tr><td> 1.9</td><td>2</td><td>1 </td></tr>\n",
              "\t<tr><td> 0.8</td><td>2</td><td>2 </td></tr>\n",
              "\t<tr><td> 1.1</td><td>2</td><td>3 </td></tr>\n",
              "\t<tr><td> 0.1</td><td>2</td><td>4 </td></tr>\n",
              "\t<tr><td>-0.1</td><td>2</td><td>5 </td></tr>\n",
              "\t<tr><td> 4.4</td><td>2</td><td>6 </td></tr>\n",
              "\t<tr><td> 5.5</td><td>2</td><td>7 </td></tr>\n",
              "\t<tr><td> 1.6</td><td>2</td><td>8 </td></tr>\n",
              "\t<tr><td> 4.6</td><td>2</td><td>9 </td></tr>\n",
              "\t<tr><td> 3.4</td><td>2</td><td>10</td></tr>\n",
              "</tbody>\n",
              "</table>\n"
            ],
            "text/markdown": "\nA data.frame: 20 × 3\n\n| extra &lt;dbl&gt; | group &lt;fct&gt; | ID &lt;fct&gt; |\n|---|---|---|\n|  0.7 | 1 | 1  |\n| -1.6 | 1 | 2  |\n| -0.2 | 1 | 3  |\n| -1.2 | 1 | 4  |\n| -0.1 | 1 | 5  |\n|  3.4 | 1 | 6  |\n|  3.7 | 1 | 7  |\n|  0.8 | 1 | 8  |\n|  0.0 | 1 | 9  |\n|  2.0 | 1 | 10 |\n|  1.9 | 2 | 1  |\n|  0.8 | 2 | 2  |\n|  1.1 | 2 | 3  |\n|  0.1 | 2 | 4  |\n| -0.1 | 2 | 5  |\n|  4.4 | 2 | 6  |\n|  5.5 | 2 | 7  |\n|  1.6 | 2 | 8  |\n|  4.6 | 2 | 9  |\n|  3.4 | 2 | 10 |\n\n",
            "text/latex": "A data.frame: 20 × 3\n\\begin{tabular}{lll}\n extra & group & ID\\\\\n <dbl> & <fct> & <fct>\\\\\n\\hline\n\t  0.7 & 1 & 1 \\\\\n\t -1.6 & 1 & 2 \\\\\n\t -0.2 & 1 & 3 \\\\\n\t -1.2 & 1 & 4 \\\\\n\t -0.1 & 1 & 5 \\\\\n\t  3.4 & 1 & 6 \\\\\n\t  3.7 & 1 & 7 \\\\\n\t  0.8 & 1 & 8 \\\\\n\t  0.0 & 1 & 9 \\\\\n\t  2.0 & 1 & 10\\\\\n\t  1.9 & 2 & 1 \\\\\n\t  0.8 & 2 & 2 \\\\\n\t  1.1 & 2 & 3 \\\\\n\t  0.1 & 2 & 4 \\\\\n\t -0.1 & 2 & 5 \\\\\n\t  4.4 & 2 & 6 \\\\\n\t  5.5 & 2 & 7 \\\\\n\t  1.6 & 2 & 8 \\\\\n\t  4.6 & 2 & 9 \\\\\n\t  3.4 & 2 & 10\\\\\n\\end{tabular}\n",
            "text/plain": [
              "   extra group ID\n",
              "1   0.7  1     1 \n",
              "2  -1.6  1     2 \n",
              "3  -0.2  1     3 \n",
              "4  -1.2  1     4 \n",
              "5  -0.1  1     5 \n",
              "6   3.4  1     6 \n",
              "7   3.7  1     7 \n",
              "8   0.8  1     8 \n",
              "9   0.0  1     9 \n",
              "10  2.0  1     10\n",
              "11  1.9  2     1 \n",
              "12  0.8  2     2 \n",
              "13  1.1  2     3 \n",
              "14  0.1  2     4 \n",
              "15 -0.1  2     5 \n",
              "16  4.4  2     6 \n",
              "17  5.5  2     7 \n",
              "18  1.6  2     8 \n",
              "19  4.6  2     9 \n",
              "20  3.4  2     10"
            ]
          },
          "metadata": {}
        }
      ]
    },
    {
      "cell_type": "code",
      "source": [
        "df<- data(sleep)\n",
        "\n",
        "\n",
        "\n"
      ],
      "metadata": {
        "id": "VZXpywj6zsdN"
      },
      "execution_count": null,
      "outputs": []
    },
    {
      "cell_type": "code",
      "source": [
        "head(df)"
      ],
      "metadata": {
        "colab": {
          "base_uri": "https://localhost:8080/",
          "height": 34
        },
        "id": "owgEoz_Rzshw",
        "outputId": "e75f7bc4-b7e8-4a00-9f80-25c8125c1da2"
      },
      "execution_count": null,
      "outputs": [
        {
          "output_type": "display_data",
          "data": {
            "text/html": [
              "'sleep'"
            ],
            "text/markdown": "'sleep'",
            "text/latex": "'sleep'",
            "text/plain": [
              "[1] \"sleep\""
            ]
          },
          "metadata": {}
        }
      ]
    },
    {
      "cell_type": "code",
      "source": [
        "'sleep'"
      ],
      "metadata": {
        "colab": {
          "base_uri": "https://localhost:8080/",
          "height": 34
        },
        "id": "5shmJsOUzsnL",
        "outputId": "7a08ac28-62ad-40fc-f65b-f8cb54573821"
      },
      "execution_count": null,
      "outputs": [
        {
          "output_type": "display_data",
          "data": {
            "text/html": [
              "'sleep'"
            ],
            "text/markdown": "'sleep'",
            "text/latex": "'sleep'",
            "text/plain": [
              "[1] \"sleep\""
            ]
          },
          "metadata": {}
        }
      ]
    },
    {
      "cell_type": "code",
      "source": [
        "df"
      ],
      "metadata": {
        "colab": {
          "base_uri": "https://localhost:8080/",
          "height": 34
        },
        "id": "7dlSRn5ezsrJ",
        "outputId": "d268301c-4986-458d-9bc6-68ce22e49273"
      },
      "execution_count": null,
      "outputs": [
        {
          "output_type": "display_data",
          "data": {
            "text/html": [
              "'sleep'"
            ],
            "text/markdown": "'sleep'",
            "text/latex": "'sleep'",
            "text/plain": [
              "[1] \"sleep\""
            ]
          },
          "metadata": {}
        }
      ]
    },
    {
      "cell_type": "code",
      "source": [
        "'sleep'"
      ],
      "metadata": {
        "colab": {
          "base_uri": "https://localhost:8080/",
          "height": 34
        },
        "id": "o1BM0_B2zs8D",
        "outputId": "d12eb8ba-cb5c-4a84-c4ef-c78e0a3b4a84"
      },
      "execution_count": null,
      "outputs": [
        {
          "output_type": "display_data",
          "data": {
            "text/html": [
              "'sleep'"
            ],
            "text/markdown": "'sleep'",
            "text/latex": "'sleep'",
            "text/plain": [
              "[1] \"sleep\""
            ]
          },
          "metadata": {}
        }
      ]
    },
    {
      "cell_type": "code",
      "source": [
        "sleep$extra"
      ],
      "metadata": {
        "colab": {
          "base_uri": "https://localhost:8080/",
          "height": 34
        },
        "id": "kzbu8TpjztAm",
        "outputId": "a5595659-5edf-487b-ea01-825daa80485f"
      },
      "execution_count": null,
      "outputs": [
        {
          "output_type": "display_data",
          "data": {
            "text/html": [
              "<style>\n",
              ".list-inline {list-style: none; margin:0; padding: 0}\n",
              ".list-inline>li {display: inline-block}\n",
              ".list-inline>li:not(:last-child)::after {content: \"\\00b7\"; padding: 0 .5ex}\n",
              "</style>\n",
              "<ol class=list-inline><li>0.7</li><li>-1.6</li><li>-0.2</li><li>-1.2</li><li>-0.1</li><li>3.4</li><li>3.7</li><li>0.8</li><li>0</li><li>2</li><li>1.9</li><li>0.8</li><li>1.1</li><li>0.1</li><li>-0.1</li><li>4.4</li><li>5.5</li><li>1.6</li><li>4.6</li><li>3.4</li></ol>\n"
            ],
            "text/markdown": "1. 0.7\n2. -1.6\n3. -0.2\n4. -1.2\n5. -0.1\n6. 3.4\n7. 3.7\n8. 0.8\n9. 0\n10. 2\n11. 1.9\n12. 0.8\n13. 1.1\n14. 0.1\n15. -0.1\n16. 4.4\n17. 5.5\n18. 1.6\n19. 4.6\n20. 3.4\n\n\n",
            "text/latex": "\\begin{enumerate*}\n\\item 0.7\n\\item -1.6\n\\item -0.2\n\\item -1.2\n\\item -0.1\n\\item 3.4\n\\item 3.7\n\\item 0.8\n\\item 0\n\\item 2\n\\item 1.9\n\\item 0.8\n\\item 1.1\n\\item 0.1\n\\item -0.1\n\\item 4.4\n\\item 5.5\n\\item 1.6\n\\item 4.6\n\\item 3.4\n\\end{enumerate*}\n",
            "text/plain": [
              " [1]  0.7 -1.6 -0.2 -1.2 -0.1  3.4  3.7  0.8  0.0  2.0  1.9  0.8  1.1  0.1 -0.1\n",
              "[16]  4.4  5.5  1.6  4.6  3.4"
            ]
          },
          "metadata": {}
        }
      ]
    },
    {
      "cell_type": "code",
      "source": [
        "barplot(sleep$extra,main=\"sleep extra concentration bar plot\",xlab=\"extra\",ylab=\"count\",col=\"green\",border = \"blue\")"
      ],
      "metadata": {
        "colab": {
          "base_uri": "https://localhost:8080/",
          "height": 197
        },
        "id": "AZbhWKVM0blo",
        "outputId": "9886c0c7-5650-4a2a-ff6e-554ccc82d2fd"
      },
      "execution_count": null,
      "outputs": [
        {
          "output_type": "display_data",
          "data": {
            "text/plain": [
              "Plot with title “sleep extra concentration bar plot”"
            ],
            "image/png": "[encoded data removed]"
          },
          "metadata": {
            "image/png": {
              "width": 180,
              "height": 180
            }
          }
        }
      ]
    },
    {
      "cell_type": "code",
      "source": [
        "barplot(sleep$extra,main=\"sleep extra concentration bar plot\",horiz=TRUE,xlab=\"extra\",ylab=\"count\",col=\"green\",border = \"red\")"
      ],
      "metadata": {
        "colab": {
          "base_uri": "https://localhost:8080/",
          "height": 197
        },
        "id": "jKO-z3b20bqQ",
        "outputId": "551a7833-04f8-4a29-94a3-9bf1a1700cca"
      },
      "execution_count": null,
      "outputs": [
        {
          "output_type": "display_data",
          "data": {
            "text/plain": [
              "Plot with title “sleep extra concentration bar plot”"
            ],
            "image/png": "[encoded data removed]"
          },
          "metadata": {
            "image/png": {
              "width": 180,
              "height": 180
            }
          }
        }
      ]
    },
    {
      "cell_type": "code",
      "source": [
        "sleep$extra"
      ],
      "metadata": {
        "colab": {
          "base_uri": "https://localhost:8080/",
          "height": 34
        },
        "id": "B8Yy4rDU0bzC",
        "outputId": "d82c6eb5-a79d-441f-9f95-105c3f11d411"
      },
      "execution_count": null,
      "outputs": [
        {
          "output_type": "display_data",
          "data": {
            "text/html": [
              "<style>\n",
              ".list-inline {list-style: none; margin:0; padding: 0}\n",
              ".list-inline>li {display: inline-block}\n",
              ".list-inline>li:not(:last-child)::after {content: \"\\00b7\"; padding: 0 .5ex}\n",
              "</style>\n",
              "<ol class=list-inline><li>0.7</li><li>-1.6</li><li>-0.2</li><li>-1.2</li><li>-0.1</li><li>3.4</li><li>3.7</li><li>0.8</li><li>0</li><li>2</li><li>1.9</li><li>0.8</li><li>1.1</li><li>0.1</li><li>-0.1</li><li>4.4</li><li>5.5</li><li>1.6</li><li>4.6</li><li>3.4</li></ol>\n"
            ],
            "text/markdown": "1. 0.7\n2. -1.6\n3. -0.2\n4. -1.2\n5. -0.1\n6. 3.4\n7. 3.7\n8. 0.8\n9. 0\n10. 2\n11. 1.9\n12. 0.8\n13. 1.1\n14. 0.1\n15. -0.1\n16. 4.4\n17. 5.5\n18. 1.6\n19. 4.6\n20. 3.4\n\n\n",
            "text/latex": "\\begin{enumerate*}\n\\item 0.7\n\\item -1.6\n\\item -0.2\n\\item -1.2\n\\item -0.1\n\\item 3.4\n\\item 3.7\n\\item 0.8\n\\item 0\n\\item 2\n\\item 1.9\n\\item 0.8\n\\item 1.1\n\\item 0.1\n\\item -0.1\n\\item 4.4\n\\item 5.5\n\\item 1.6\n\\item 4.6\n\\item 3.4\n\\end{enumerate*}\n",
            "text/plain": [
              " [1]  0.7 -1.6 -0.2 -1.2 -0.1  3.4  3.7  0.8  0.0  2.0  1.9  0.8  1.1  0.1 -0.1\n",
              "[16]  4.4  5.5  1.6  4.6  3.4"
            ]
          },
          "metadata": {}
        }
      ]
    },
    {
      "cell_type": "code",
      "source": [
        "boxplot(sleep[, 1:3], col = sleep$group, main = \"Boxplot of sleep Variables by group\")"
      ],
      "metadata": {
        "colab": {
          "base_uri": "https://localhost:8080/",
          "height": 197
        },
        "id": "yC6yCdfD0cTw",
        "outputId": "ee239794-fe43-421b-ddbc-f278f6658917"
      },
      "execution_count": null,
      "outputs": [
        {
          "output_type": "display_data",
          "data": {
            "text/plain": [
              "Plot with title “Boxplot of sleep Variables by group”"
            ],
            "image/png": "[encoded data removed]"
          },
          "metadata": {
            "image/png": {
              "width": 180,
              "height": 180
            }
          }
        }
      ]
    },
    {
      "cell_type": "code",
      "source": [
        "hist(sleep$extra,main=\"sleep extra\",xlim=c(0,5),ylim=c(0,50),xlab=\"extra\",freq=TRUE,col=\"yellow\",border=\"green\")"
      ],
      "metadata": {
        "colab": {
          "base_uri": "https://localhost:8080/",
          "height": 197
        },
        "id": "MROttt1bGYT4",
        "outputId": "9b5a603d-2e54-4250-ee23-e29b60a61f11"
      },
      "execution_count": null,
      "outputs": [
        {
          "output_type": "display_data",
          "data": {
            "text/plain": [
              "Plot with title “sleep extra”"
            ],
            "image/png": "[encoded data removed]"
          },
          "metadata": {
            "image/png": {
              "width": 180,
              "height": 180
            }
          }
        }
      ]
    },
    {
      "cell_type": "code",
      "source": [
        "boxplot(sleep$group,\n",
        "       main=\"Avg group\",\n",
        "       xlab=\"lenght\",\n",
        "       ylab=\"group\",\n",
        "       col=\"red\", border=\"green\",\n",
        "       horizontal=TRUE,notch=FALSE)"
      ],
      "metadata": {
        "colab": {
          "base_uri": "https://localhost:8080/",
          "height": 197
        },
        "id": "UwcjN9fqGwEH",
        "outputId": "b4f3990c-b0f2-4cac-90ea-35a98f87e628"
      },
      "execution_count": null,
      "outputs": [
        {
          "output_type": "display_data",
          "data": {
            "text/plain": [
              "Plot with title “Avg group”"
            ],
            "image/png": "[encoded data removed]"
          },
          "metadata": {
            "image/png": {
              "width": 180,
              "height": 180
            }
          }
        }
      ]
    },
    {
      "cell_type": "code",
      "source": [
        "plot(sleep$extra, sleep$group,\n",
        "     main =\"Scatterplot Example\",\n",
        "    xlab =\"sleep extra\",\n",
        "    ylab =\"sleep group \", pch =23)"
      ],
      "metadata": {
        "colab": {
          "base_uri": "https://localhost:8080/",
          "height": 197
        },
        "id": "AyKRzMzRGwJN",
        "outputId": "3c91153b-4873-462e-ac5d-5f5911fabda1"
      },
      "execution_count": null,
      "outputs": [
        {
          "output_type": "display_data",
          "data": {
            "text/plain": [
              "Plot with title “Scatterplot Example”"
            ],
            "image/png": "[encoded data removed]"
          },
          "metadata": {
            "image/png": {
              "width": 180,
              "height": 180
            }
          }
        }
      ]
    },
    {
      "cell_type": "code",
      "source": [
        "install.packages(\"ggplot2\", dependencies = TRUE)\n",
        "library(ggplot2)"
      ],
      "metadata": {
        "colab": {
          "base_uri": "https://localhost:8080/"
        },
        "id": "3RCYAtOAGwNh",
        "outputId": "6045ad4f-8424-4f92-de76-206befa0189c"
      },
      "execution_count": null,
      "outputs": [
        {
          "output_type": "stream",
          "name": "stderr",
          "text": [
            "Installing package into ‘/usr/local/lib/R/site-library’\n",
            "(as ‘lib’ is unspecified)\n",
            "\n",
            "also installing the dependencies ‘proxy’, ‘lazyeval’, ‘checkmate’, ‘zoo’, ‘e1071’, ‘wk’, ‘rex’, ‘gridExtra’, ‘htmlTable’, ‘viridis’, ‘Formula’, ‘sp’, ‘mvtnorm’, ‘TH.data’, ‘sandwich’, ‘htmlwidgets’, ‘SparseM’, ‘MatrixModels’, ‘textshaping’, ‘classInt’, ‘Rcpp’, ‘s2’, ‘units’, ‘covr’, ‘ggplot2movies’, ‘hexbin’, ‘Hmisc’, ‘mapproj’, ‘maps’, ‘maptools’, ‘multcomp’, ‘profvis’, ‘quantreg’, ‘ragg’, ‘rgeos’, ‘sf’, ‘vdiffr’\n",
            "\n",
            "\n",
            "Warning message in install.packages(\"ggplot2\", dependencies = TRUE):\n",
            "“installation of package ‘textshaping’ had non-zero exit status”\n",
            "Warning message in install.packages(\"ggplot2\", dependencies = TRUE):\n",
            "“installation of package ‘s2’ had non-zero exit status”\n",
            "Warning message in install.packages(\"ggplot2\", dependencies = TRUE):\n",
            "“installation of package ‘ragg’ had non-zero exit status”\n",
            "Warning message in install.packages(\"ggplot2\", dependencies = TRUE):\n",
            "“installation of package ‘sf’ had non-zero exit status”\n"
          ]
        }
      ]
    },
    {
      "cell_type": "code",
      "source": [
        "ggplot(sleep, aes(x = group, y =extra, color = ID)) + geom_point()\n",
        "#This will create a scatter plot of sleep group Vs sleep extra, where each point \n",
        "# is colored by the ID of the sleep."
      ],
      "metadata": {
        "colab": {
          "base_uri": "https://localhost:8080/",
          "height": 197
        },
        "id": "dYtp-1rFH1gE",
        "outputId": "65cde37d-3bad-4033-df61-60f29e94110c"
      },
      "execution_count": null,
      "outputs": [
        {
          "output_type": "display_data",
          "data": {
            "text/plain": [
              "plot without title"
            ],
            "image/png": "[encoded data removed]"
          },
          "metadata": {
            "image/png": {
              "width": 180,
              "height": 180
            }
          }
        }
      ]
    },
    {
      "cell_type": "code",
      "source": [
        "ggplot(sleep, aes(x = extra, fill = ID)) + geom_density(alpha = 0.5) + labs(title = \"Density Plot of sleep extra by ID\")\n",
        "#This will create a scatter plot of extra Vs group, where each point is colored by \n",
        "#the ID of the sleep."
      ],
      "metadata": {
        "colab": {
          "base_uri": "https://localhost:8080/",
          "height": 197
        },
        "id": "FoBSaSP3H1kS",
        "outputId": "cae60af7-6336-459e-9fce-afe5e83805dc"
      },
      "execution_count": null,
      "outputs": [
        {
          "output_type": "display_data",
          "data": {
            "text/plain": [
              "plot without title"
            ],
            "image/png": "[encoded data removed]"
          },
          "metadata": {
            "image/png": {
              "width": 180,
              "height": 180
            }
          }
        }
      ]
    },
    {
      "cell_type": "code",
      "source": [
        "ggplot(sleep, aes(x = extra, y = group, fill = extra))+geom_boxplot()+labs(title = \"Box Plot of extra\", x = \"extra\", y = \"group\")+scale_fill_manual(values = c(\"#FF6666\", \"#33FFCC\", \"#FFCC33\"))\n",
        "#This will create a box plot of group, where each box represents the distribution of group \n",
        "#for each extra of the sleep."
      ],
      "metadata": {
        "colab": {
          "base_uri": "https://localhost:8080/",
          "height": 308
        },
        "id": "ECKExvaYLN42",
        "outputId": "3279e164-13e5-4a14-fcc4-2293bbd07acf"
      },
      "execution_count": null,
      "outputs": [
        {
          "output_type": "stream",
          "name": "stderr",
          "text": [
            "Warning message:\n",
            "“\u001b[1m\u001b[22mThe following aesthetics were dropped during statistical transformation: \u001b[32mfill\u001b[39m\n",
            "\u001b[36mℹ\u001b[39m This can happen when ggplot fails to infer the correct grouping structure in\n",
            "  the data.\n",
            "\u001b[36mℹ\u001b[39m Did you forget to specify a `group` aesthetic or to convert a numerical\n",
            "  variable into a factor?”\n"
          ]
        },
        {
          "output_type": "display_data",
          "data": {
            "text/plain": [
              "plot without title"
            ],
            "image/png": "[encoded data removed]"
          },
          "metadata": {
            "image/png": {
              "width": 180,
              "height": 180
            }
          }
        }
      ]
    },
    {
      "cell_type": "code",
      "source": [],
      "metadata": {
        "id": "5wmHLuZwLOJO"
      },
      "execution_count": null,
      "outputs": []
    }
  ]
}